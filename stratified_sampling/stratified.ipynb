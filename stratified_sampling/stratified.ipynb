{
 "cells": [
  {
   "cell_type": "code",
   "execution_count": 1,
   "metadata": {
    "collapsed": true
   },
   "outputs": [],
   "source": [
    "import pandas as pd\n",
    "import numpy as np\n",
    "from sklearn.model_selection import train_test_split as tts\n",
    "from sklearn.model_selection import StratifiedKFold\n",
    "from sklearn.model_selection import StratifiedShuffleSplit\n",
    "from sklearn import tree"
   ]
  },
  {
   "cell_type": "markdown",
   "metadata": {},
   "source": [
    "### Raw data, predictors and target"
   ]
  },
  {
   "cell_type": "code",
   "execution_count": 2,
   "metadata": {},
   "outputs": [
    {
     "data": {
      "text/html": [
       "<div>\n",
       "<style>\n",
       "    .dataframe thead tr:only-child th {\n",
       "        text-align: right;\n",
       "    }\n",
       "\n",
       "    .dataframe thead th {\n",
       "        text-align: left;\n",
       "    }\n",
       "\n",
       "    .dataframe tbody tr th {\n",
       "        vertical-align: top;\n",
       "    }\n",
       "</style>\n",
       "<table border=\"1\" class=\"dataframe\">\n",
       "  <thead>\n",
       "    <tr style=\"text-align: right;\">\n",
       "      <th></th>\n",
       "      <th>Day</th>\n",
       "      <th>Temperature</th>\n",
       "      <th>Outlook</th>\n",
       "      <th>Humidity</th>\n",
       "      <th>Windy</th>\n",
       "      <th>PlayGolf</th>\n",
       "    </tr>\n",
       "  </thead>\n",
       "  <tbody>\n",
       "    <tr>\n",
       "      <th>0</th>\n",
       "      <td>2017-07-05</td>\n",
       "      <td>hot</td>\n",
       "      <td>sunny</td>\n",
       "      <td>high</td>\n",
       "      <td>False</td>\n",
       "      <td>no</td>\n",
       "    </tr>\n",
       "    <tr>\n",
       "      <th>1</th>\n",
       "      <td>2017-07-06</td>\n",
       "      <td>hot</td>\n",
       "      <td>sunny</td>\n",
       "      <td>high</td>\n",
       "      <td>True</td>\n",
       "      <td>no</td>\n",
       "    </tr>\n",
       "    <tr>\n",
       "      <th>2</th>\n",
       "      <td>2017-07-07</td>\n",
       "      <td>hot</td>\n",
       "      <td>overcast</td>\n",
       "      <td>high</td>\n",
       "      <td>False</td>\n",
       "      <td>yes</td>\n",
       "    </tr>\n",
       "    <tr>\n",
       "      <th>3</th>\n",
       "      <td>2017-07-09</td>\n",
       "      <td>cool</td>\n",
       "      <td>rain</td>\n",
       "      <td>normal</td>\n",
       "      <td>False</td>\n",
       "      <td>yes</td>\n",
       "    </tr>\n",
       "    <tr>\n",
       "      <th>4</th>\n",
       "      <td>2017-07-10</td>\n",
       "      <td>cool</td>\n",
       "      <td>overcast</td>\n",
       "      <td>normal</td>\n",
       "      <td>True</td>\n",
       "      <td>yes</td>\n",
       "    </tr>\n",
       "    <tr>\n",
       "      <th>5</th>\n",
       "      <td>2017-07-12</td>\n",
       "      <td>mild</td>\n",
       "      <td>sunny</td>\n",
       "      <td>high</td>\n",
       "      <td>False</td>\n",
       "      <td>no</td>\n",
       "    </tr>\n",
       "    <tr>\n",
       "      <th>6</th>\n",
       "      <td>2017-07-14</td>\n",
       "      <td>cool</td>\n",
       "      <td>sunny</td>\n",
       "      <td>normal</td>\n",
       "      <td>False</td>\n",
       "      <td>yes</td>\n",
       "    </tr>\n",
       "    <tr>\n",
       "      <th>7</th>\n",
       "      <td>2017-07-15</td>\n",
       "      <td>mild</td>\n",
       "      <td>rain</td>\n",
       "      <td>normal</td>\n",
       "      <td>False</td>\n",
       "      <td>yes</td>\n",
       "    </tr>\n",
       "    <tr>\n",
       "      <th>8</th>\n",
       "      <td>2017-07-20</td>\n",
       "      <td>mild</td>\n",
       "      <td>sunny</td>\n",
       "      <td>normal</td>\n",
       "      <td>True</td>\n",
       "      <td>yes</td>\n",
       "    </tr>\n",
       "    <tr>\n",
       "      <th>9</th>\n",
       "      <td>2017-07-21</td>\n",
       "      <td>mild</td>\n",
       "      <td>overcast</td>\n",
       "      <td>high</td>\n",
       "      <td>True</td>\n",
       "      <td>yes</td>\n",
       "    </tr>\n",
       "    <tr>\n",
       "      <th>10</th>\n",
       "      <td>2017-07-22</td>\n",
       "      <td>hot</td>\n",
       "      <td>overcast</td>\n",
       "      <td>normal</td>\n",
       "      <td>False</td>\n",
       "      <td>yes</td>\n",
       "    </tr>\n",
       "    <tr>\n",
       "      <th>11</th>\n",
       "      <td>2017-07-23</td>\n",
       "      <td>mild</td>\n",
       "      <td>rain</td>\n",
       "      <td>high</td>\n",
       "      <td>True</td>\n",
       "      <td>no</td>\n",
       "    </tr>\n",
       "    <tr>\n",
       "      <th>12</th>\n",
       "      <td>2017-07-26</td>\n",
       "      <td>cool</td>\n",
       "      <td>rain</td>\n",
       "      <td>normal</td>\n",
       "      <td>True</td>\n",
       "      <td>no</td>\n",
       "    </tr>\n",
       "    <tr>\n",
       "      <th>13</th>\n",
       "      <td>2017-07-30</td>\n",
       "      <td>mild</td>\n",
       "      <td>rain</td>\n",
       "      <td>high</td>\n",
       "      <td>False</td>\n",
       "      <td>yes</td>\n",
       "    </tr>\n",
       "  </tbody>\n",
       "</table>\n",
       "</div>"
      ],
      "text/plain": [
       "          Day Temperature   Outlook Humidity  Windy PlayGolf\n",
       "0  2017-07-05         hot     sunny     high  False       no\n",
       "1  2017-07-06         hot     sunny     high   True       no\n",
       "2  2017-07-07         hot  overcast     high  False      yes\n",
       "3  2017-07-09        cool      rain   normal  False      yes\n",
       "4  2017-07-10        cool  overcast   normal   True      yes\n",
       "5  2017-07-12        mild     sunny     high  False       no\n",
       "6  2017-07-14        cool     sunny   normal  False      yes\n",
       "7  2017-07-15        mild      rain   normal  False      yes\n",
       "8  2017-07-20        mild     sunny   normal   True      yes\n",
       "9  2017-07-21        mild  overcast     high   True      yes\n",
       "10 2017-07-22         hot  overcast   normal  False      yes\n",
       "11 2017-07-23        mild      rain     high   True       no\n",
       "12 2017-07-26        cool      rain   normal   True       no\n",
       "13 2017-07-30        mild      rain     high  False      yes"
      ]
     },
     "metadata": {},
     "output_type": "display_data"
    },
    {
     "data": {
      "text/html": [
       "<div>\n",
       "<style>\n",
       "    .dataframe thead tr:only-child th {\n",
       "        text-align: right;\n",
       "    }\n",
       "\n",
       "    .dataframe thead th {\n",
       "        text-align: left;\n",
       "    }\n",
       "\n",
       "    .dataframe tbody tr th {\n",
       "        vertical-align: top;\n",
       "    }\n",
       "</style>\n",
       "<table border=\"1\" class=\"dataframe\">\n",
       "  <thead>\n",
       "    <tr style=\"text-align: right;\">\n",
       "      <th></th>\n",
       "      <th>0</th>\n",
       "    </tr>\n",
       "    <tr>\n",
       "      <th>PlayGolf</th>\n",
       "      <th></th>\n",
       "    </tr>\n",
       "  </thead>\n",
       "  <tbody>\n",
       "    <tr>\n",
       "      <th>no</th>\n",
       "      <td>5</td>\n",
       "    </tr>\n",
       "    <tr>\n",
       "      <th>yes</th>\n",
       "      <td>9</td>\n",
       "    </tr>\n",
       "  </tbody>\n",
       "</table>\n",
       "</div>"
      ],
      "text/plain": [
       "          0\n",
       "PlayGolf   \n",
       "no        5\n",
       "yes       9"
      ]
     },
     "metadata": {},
     "output_type": "display_data"
    }
   ],
   "source": [
    "df = pd.read_excel('IG_sample.xlsx', sheetname='PlayGolf')\n",
    "display(df)\n",
    "\n",
    "feat_col = ['Temperature', 'Outlook', 'Humidity', 'Windy', 'PlayGolf']\n",
    "targ_col = ['PlayGolf']\n",
    "X = df[feat_col]; y = df[targ_col]\n",
    "display(df.groupby(by = targ_col).apply(len).to_frame())"
   ]
  },
  {
   "cell_type": "markdown",
   "metadata": {},
   "source": [
    "### Stratified sampling based on the target, using *train_test_split*"
   ]
  },
  {
   "cell_type": "markdown",
   "metadata": {},
   "source": [
    "#### random sampling generating undesired splits"
   ]
  },
  {
   "cell_type": "code",
   "execution_count": 3,
   "metadata": {},
   "outputs": [
    {
     "data": {
      "text/plain": [
       "Int64Index([8, 2, 1, 13, 4, 7, 10, 3, 6], dtype='int64')"
      ]
     },
     "metadata": {},
     "output_type": "display_data"
    },
    {
     "data": {
      "text/plain": [
       "Int64Index([9, 11, 0, 12, 5], dtype='int64')"
      ]
     },
     "metadata": {},
     "output_type": "display_data"
    },
    {
     "data": {
      "text/html": [
       "<div>\n",
       "<style>\n",
       "    .dataframe thead tr:only-child th {\n",
       "        text-align: right;\n",
       "    }\n",
       "\n",
       "    .dataframe thead th {\n",
       "        text-align: left;\n",
       "    }\n",
       "\n",
       "    .dataframe tbody tr th {\n",
       "        vertical-align: top;\n",
       "    }\n",
       "</style>\n",
       "<table border=\"1\" class=\"dataframe\">\n",
       "  <thead>\n",
       "    <tr style=\"text-align: right;\">\n",
       "      <th></th>\n",
       "      <th>PlayGolf</th>\n",
       "    </tr>\n",
       "  </thead>\n",
       "  <tbody>\n",
       "    <tr>\n",
       "      <th>9</th>\n",
       "      <td>yes</td>\n",
       "    </tr>\n",
       "    <tr>\n",
       "      <th>11</th>\n",
       "      <td>no</td>\n",
       "    </tr>\n",
       "    <tr>\n",
       "      <th>0</th>\n",
       "      <td>no</td>\n",
       "    </tr>\n",
       "    <tr>\n",
       "      <th>12</th>\n",
       "      <td>no</td>\n",
       "    </tr>\n",
       "    <tr>\n",
       "      <th>5</th>\n",
       "      <td>no</td>\n",
       "    </tr>\n",
       "  </tbody>\n",
       "</table>\n",
       "</div>"
      ],
      "text/plain": [
       "   PlayGolf\n",
       "9       yes\n",
       "11       no\n",
       "0        no\n",
       "12       no\n",
       "5        no"
      ]
     },
     "metadata": {},
     "output_type": "display_data"
    }
   ],
   "source": [
    "X_train, X_test, y_train, y_test = tts(X, y, test_size=0.33, random_state=42)\n",
    "display(X_train.index)\n",
    "display(X_test.index)\n",
    "display(y_test)"
   ]
  },
  {
   "cell_type": "markdown",
   "metadata": {},
   "source": [
    "#### stratify option in train_test_split, generating desired splits"
   ]
  },
  {
   "cell_type": "code",
   "execution_count": 4,
   "metadata": {},
   "outputs": [
    {
     "data": {
      "text/plain": [
       "Int64Index([1, 6, 9, 12, 3, 5, 8, 2, 4], dtype='int64')"
      ]
     },
     "metadata": {},
     "output_type": "display_data"
    },
    {
     "data": {
      "text/plain": [
       "Int64Index([10, 13, 0, 7, 11], dtype='int64')"
      ]
     },
     "metadata": {},
     "output_type": "display_data"
    },
    {
     "data": {
      "text/html": [
       "<div>\n",
       "<style>\n",
       "    .dataframe thead tr:only-child th {\n",
       "        text-align: right;\n",
       "    }\n",
       "\n",
       "    .dataframe thead th {\n",
       "        text-align: left;\n",
       "    }\n",
       "\n",
       "    .dataframe tbody tr th {\n",
       "        vertical-align: top;\n",
       "    }\n",
       "</style>\n",
       "<table border=\"1\" class=\"dataframe\">\n",
       "  <thead>\n",
       "    <tr style=\"text-align: right;\">\n",
       "      <th></th>\n",
       "      <th>PlayGolf</th>\n",
       "    </tr>\n",
       "  </thead>\n",
       "  <tbody>\n",
       "    <tr>\n",
       "      <th>10</th>\n",
       "      <td>yes</td>\n",
       "    </tr>\n",
       "    <tr>\n",
       "      <th>13</th>\n",
       "      <td>yes</td>\n",
       "    </tr>\n",
       "    <tr>\n",
       "      <th>0</th>\n",
       "      <td>no</td>\n",
       "    </tr>\n",
       "    <tr>\n",
       "      <th>7</th>\n",
       "      <td>yes</td>\n",
       "    </tr>\n",
       "    <tr>\n",
       "      <th>11</th>\n",
       "      <td>no</td>\n",
       "    </tr>\n",
       "  </tbody>\n",
       "</table>\n",
       "</div>"
      ],
      "text/plain": [
       "   PlayGolf\n",
       "10      yes\n",
       "13      yes\n",
       "0        no\n",
       "7       yes\n",
       "11       no"
      ]
     },
     "metadata": {},
     "output_type": "display_data"
    }
   ],
   "source": [
    "X_train, X_test, y_train, y_test = tts(X, y, test_size=0.33, random_state=42, stratify = y)\n",
    "display(X_train.index)\n",
    "display(X_test.index)\n",
    "display(y_test)"
   ]
  },
  {
   "cell_type": "markdown",
   "metadata": {},
   "source": [
    "#### stratify using one predictor + response"
   ]
  },
  {
   "cell_type": "code",
   "execution_count": 5,
   "metadata": {},
   "outputs": [
    {
     "data": {
      "text/plain": [
       "Int64Index([0, 1, 11, 3, 4, 13, 2, 7, 8], dtype='int64')"
      ]
     },
     "metadata": {},
     "output_type": "display_data"
    },
    {
     "data": {
      "text/plain": [
       "Int64Index([9, 10, 5, 12, 6], dtype='int64')"
      ]
     },
     "metadata": {},
     "output_type": "display_data"
    },
    {
     "data": {
      "text/html": [
       "<div>\n",
       "<style>\n",
       "    .dataframe thead tr:only-child th {\n",
       "        text-align: right;\n",
       "    }\n",
       "\n",
       "    .dataframe thead th {\n",
       "        text-align: left;\n",
       "    }\n",
       "\n",
       "    .dataframe tbody tr th {\n",
       "        vertical-align: top;\n",
       "    }\n",
       "</style>\n",
       "<table border=\"1\" class=\"dataframe\">\n",
       "  <thead>\n",
       "    <tr style=\"text-align: right;\">\n",
       "      <th></th>\n",
       "      <th>0</th>\n",
       "    </tr>\n",
       "    <tr>\n",
       "      <th>Windy</th>\n",
       "      <th></th>\n",
       "    </tr>\n",
       "  </thead>\n",
       "  <tbody>\n",
       "    <tr>\n",
       "      <th>False</th>\n",
       "      <td>8</td>\n",
       "    </tr>\n",
       "    <tr>\n",
       "      <th>True</th>\n",
       "      <td>6</td>\n",
       "    </tr>\n",
       "  </tbody>\n",
       "</table>\n",
       "</div>"
      ],
      "text/plain": [
       "       0\n",
       "Windy   \n",
       "False  8\n",
       "True   6"
      ]
     },
     "metadata": {},
     "output_type": "display_data"
    },
    {
     "data": {
      "text/html": [
       "<div>\n",
       "<style>\n",
       "    .dataframe thead tr:only-child th {\n",
       "        text-align: right;\n",
       "    }\n",
       "\n",
       "    .dataframe thead th {\n",
       "        text-align: left;\n",
       "    }\n",
       "\n",
       "    .dataframe tbody tr th {\n",
       "        vertical-align: top;\n",
       "    }\n",
       "</style>\n",
       "<table border=\"1\" class=\"dataframe\">\n",
       "  <thead>\n",
       "    <tr style=\"text-align: right;\">\n",
       "      <th></th>\n",
       "      <th>Windy</th>\n",
       "      <th>PlayGolf</th>\n",
       "    </tr>\n",
       "  </thead>\n",
       "  <tbody>\n",
       "    <tr>\n",
       "      <th>9</th>\n",
       "      <td>True</td>\n",
       "      <td>yes</td>\n",
       "    </tr>\n",
       "    <tr>\n",
       "      <th>10</th>\n",
       "      <td>False</td>\n",
       "      <td>yes</td>\n",
       "    </tr>\n",
       "    <tr>\n",
       "      <th>5</th>\n",
       "      <td>False</td>\n",
       "      <td>no</td>\n",
       "    </tr>\n",
       "    <tr>\n",
       "      <th>12</th>\n",
       "      <td>True</td>\n",
       "      <td>no</td>\n",
       "    </tr>\n",
       "    <tr>\n",
       "      <th>6</th>\n",
       "      <td>False</td>\n",
       "      <td>yes</td>\n",
       "    </tr>\n",
       "  </tbody>\n",
       "</table>\n",
       "</div>"
      ],
      "text/plain": [
       "    Windy PlayGolf\n",
       "9    True      yes\n",
       "10  False      yes\n",
       "5   False       no\n",
       "12   True       no\n",
       "6   False      yes"
      ]
     },
     "metadata": {},
     "output_type": "display_data"
    },
    {
     "data": {
      "text/html": [
       "<div>\n",
       "<style>\n",
       "    .dataframe thead tr:only-child th {\n",
       "        text-align: right;\n",
       "    }\n",
       "\n",
       "    .dataframe thead th {\n",
       "        text-align: left;\n",
       "    }\n",
       "\n",
       "    .dataframe tbody tr th {\n",
       "        vertical-align: top;\n",
       "    }\n",
       "</style>\n",
       "<table border=\"1\" class=\"dataframe\">\n",
       "  <thead>\n",
       "    <tr style=\"text-align: right;\">\n",
       "      <th></th>\n",
       "      <th>PlayGolf</th>\n",
       "    </tr>\n",
       "  </thead>\n",
       "  <tbody>\n",
       "    <tr>\n",
       "      <th>9</th>\n",
       "      <td>yes</td>\n",
       "    </tr>\n",
       "    <tr>\n",
       "      <th>10</th>\n",
       "      <td>yes</td>\n",
       "    </tr>\n",
       "    <tr>\n",
       "      <th>5</th>\n",
       "      <td>no</td>\n",
       "    </tr>\n",
       "    <tr>\n",
       "      <th>12</th>\n",
       "      <td>no</td>\n",
       "    </tr>\n",
       "    <tr>\n",
       "      <th>6</th>\n",
       "      <td>yes</td>\n",
       "    </tr>\n",
       "  </tbody>\n",
       "</table>\n",
       "</div>"
      ],
      "text/plain": [
       "   PlayGolf\n",
       "9       yes\n",
       "10      yes\n",
       "5        no\n",
       "12       no\n",
       "6       yes"
      ]
     },
     "metadata": {},
     "output_type": "display_data"
    }
   ],
   "source": [
    "y_split = df[['Windy', 'PlayGolf']]\n",
    "X_train, X_test, y_train, y_test = tts(X, y, test_size=0.33, random_state=42, stratify = y_split)\n",
    "display(X_train.index)\n",
    "display(X_test.index)\n",
    "\n",
    "display(df.groupby(by = 'Windy').apply(len).to_frame())\n",
    "display(y_split.loc[y_test.index])\n",
    "display(y_test)"
   ]
  },
  {
   "cell_type": "markdown",
   "metadata": {},
   "source": [
    "### K-fold using *StratifiedKFold* "
   ]
  },
  {
   "cell_type": "markdown",
   "metadata": {},
   "source": [
    "#### SKF using response, without shuffling"
   ]
  },
  {
   "cell_type": "code",
   "execution_count": 6,
   "metadata": {},
   "outputs": [
    {
     "name": "stdout",
     "output_type": "stream",
     "text": [
      "5\n",
      "('TRAIN:', array([ 1,  4,  5,  6,  7,  8,  9, 10, 11, 12, 13]), 'TEST:', array([0, 2, 3]))\n",
      "  PlayGolf\n",
      "0       no\n",
      "2      yes\n",
      "3      yes\n",
      "('TRAIN:', array([ 0,  2,  3,  5,  7,  8,  9, 10, 11, 12, 13]), 'TEST:', array([1, 4, 6]))\n",
      "  PlayGolf\n",
      "1       no\n",
      "4      yes\n",
      "6      yes\n",
      "('TRAIN:', array([ 0,  1,  2,  3,  4,  6,  9, 10, 11, 12, 13]), 'TEST:', array([5, 7, 8]))\n",
      "  PlayGolf\n",
      "5       no\n",
      "7      yes\n",
      "8      yes\n",
      "('TRAIN:', array([ 0,  1,  2,  3,  4,  5,  6,  7,  8, 12, 13]), 'TEST:', array([ 9, 10, 11]))\n",
      "   PlayGolf\n",
      "9       yes\n",
      "10      yes\n",
      "11       no\n",
      "('TRAIN:', array([ 0,  1,  2,  3,  4,  5,  6,  7,  8,  9, 10, 11]), 'TEST:', array([12, 13]))\n",
      "   PlayGolf\n",
      "12       no\n",
      "13      yes\n"
     ]
    }
   ],
   "source": [
    "skf = StratifiedKFold(n_splits=5, random_state=42)\n",
    "print skf.get_n_splits(X, y)\n",
    "for train_index, test_index in skf.split(X, y):\n",
    "    print(\"TRAIN:\", train_index, \"TEST:\", test_index)\n",
    "    print y.loc[test_index]"
   ]
  },
  {
   "cell_type": "markdown",
   "metadata": {},
   "source": [
    "#### SKF using response, with shuffling"
   ]
  },
  {
   "cell_type": "code",
   "execution_count": 7,
   "metadata": {},
   "outputs": [
    {
     "name": "stdout",
     "output_type": "stream",
     "text": [
      "5\n",
      "('TRAIN:', array([ 0,  2,  4,  5,  6,  7,  8,  9, 11, 12, 13]), 'TEST:', array([ 1,  3, 10]))\n",
      "   PlayGolf\n",
      "1        no\n",
      "3       yes\n",
      "10      yes\n",
      "('TRAIN:', array([ 0,  1,  3,  4,  5,  6,  7,  9, 10, 11, 13]), 'TEST:', array([ 2,  8, 12]))\n",
      "   PlayGolf\n",
      "2       yes\n",
      "8       yes\n",
      "12       no\n",
      "('TRAIN:', array([ 0,  1,  2,  3,  6,  7,  8,  9, 10, 11, 12]), 'TEST:', array([ 4,  5, 13]))\n",
      "   PlayGolf\n",
      "4       yes\n",
      "5        no\n",
      "13      yes\n",
      "('TRAIN:', array([ 1,  2,  3,  4,  5,  8,  9, 10, 11, 12, 13]), 'TEST:', array([0, 6, 7]))\n",
      "  PlayGolf\n",
      "0       no\n",
      "6      yes\n",
      "7      yes\n",
      "('TRAIN:', array([ 0,  1,  2,  3,  4,  5,  6,  7,  8, 10, 12, 13]), 'TEST:', array([ 9, 11]))\n",
      "   PlayGolf\n",
      "9       yes\n",
      "11       no\n"
     ]
    }
   ],
   "source": [
    "skf = StratifiedKFold(n_splits=5, shuffle=True, random_state=42)\n",
    "print skf.get_n_splits(X, y)\n",
    "for train_index, test_index in skf.split(X, y):\n",
    "    print(\"TRAIN:\", train_index, \"TEST:\", test_index)\n",
    "    print y.loc[test_index]"
   ]
  },
  {
   "cell_type": "markdown",
   "metadata": {},
   "source": [
    "#### SKF using a predictor + response"
   ]
  },
  {
   "cell_type": "code",
   "execution_count": 8,
   "metadata": {},
   "outputs": [
    {
     "name": "stdout",
     "output_type": "stream",
     "text": [
      "3\n",
      "Supported target types are: ('binary', 'multiclass'). Got 'unknown' instead.\n"
     ]
    }
   ],
   "source": [
    "y_split = df[['Windy', 'PlayGolf']]\n",
    "\n",
    "skf = StratifiedKFold(n_splits=3, random_state=42)\n",
    "\n",
    "print skf.get_n_splits(X, y_split)\n",
    "\n",
    "try:\n",
    "    for train_index, test_index in skf.split(X, y_split):\n",
    "        print(\"TRAIN:\", train_index, \"TEST:\", test_index)\n",
    "        print y.loc[test_index]\n",
    "except Exception as e:\n",
    "    print e"
   ]
  },
  {
   "cell_type": "markdown",
   "metadata": {},
   "source": [
    "#### SKF using a predictor"
   ]
  },
  {
   "cell_type": "code",
   "execution_count": 9,
   "metadata": {},
   "outputs": [
    {
     "name": "stdout",
     "output_type": "stream",
     "text": [
      "3\n",
      "('TRAIN:', array([ 5,  6,  7,  8,  9, 10, 11, 12, 13]), 'TEST:', array([0, 1, 2, 3, 4]))\n",
      "0    False\n",
      "1     True\n",
      "2    False\n",
      "3    False\n",
      "4     True\n",
      "Name: Windy, dtype: bool\n",
      "  PlayGolf\n",
      "0       no\n",
      "1       no\n",
      "2      yes\n",
      "3      yes\n",
      "4      yes\n",
      "('TRAIN:', array([ 0,  1,  2,  3,  4, 10, 11, 12, 13]), 'TEST:', array([5, 6, 7, 8, 9]))\n",
      "5    False\n",
      "6    False\n",
      "7    False\n",
      "8     True\n",
      "9     True\n",
      "Name: Windy, dtype: bool\n",
      "  PlayGolf\n",
      "5       no\n",
      "6      yes\n",
      "7      yes\n",
      "8      yes\n",
      "9      yes\n",
      "('TRAIN:', array([0, 1, 2, 3, 4, 5, 6, 7, 8, 9]), 'TEST:', array([10, 11, 12, 13]))\n",
      "10    False\n",
      "11     True\n",
      "12     True\n",
      "13    False\n",
      "Name: Windy, dtype: bool\n",
      "   PlayGolf\n",
      "10      yes\n",
      "11       no\n",
      "12       no\n",
      "13      yes\n"
     ]
    }
   ],
   "source": [
    "y_split = df['Windy']\n",
    "\n",
    "skf = StratifiedKFold(n_splits=3, random_state=42)\n",
    "\n",
    "print skf.get_n_splits(X, y_split)\n",
    "\n",
    "try:\n",
    "    for train_index, test_index in skf.split(X, y_split):\n",
    "        print(\"TRAIN:\", train_index, \"TEST:\", test_index)\n",
    "        print y_split.loc[test_index]\n",
    "        print y.loc[test_index]\n",
    "except Exception as e:\n",
    "    print e"
   ]
  },
  {
   "cell_type": "markdown",
   "metadata": {},
   "source": [
    "### using *StratifiedShuffleSplit*"
   ]
  },
  {
   "cell_type": "code",
   "execution_count": 10,
   "metadata": {},
   "outputs": [
    {
     "name": "stdout",
     "output_type": "stream",
     "text": [
      "5\n",
      "('TRAIN:', array([ 1,  6,  4, 12,  3,  2,  5, 13,  0,  8,  9]), 'TEST:', array([11, 10,  7]))\n",
      "   PlayGolf\n",
      "11       no\n",
      "10      yes\n",
      "7       yes\n",
      "('TRAIN:', array([ 1, 13,  4, 10,  3,  6,  5,  0,  9, 12,  2]), 'TEST:', array([ 7,  8, 11]))\n",
      "   PlayGolf\n",
      "7       yes\n",
      "8       yes\n",
      "11       no\n",
      "('TRAIN:', array([ 2,  7,  9, 10, 12, 11,  5,  6,  0,  8,  4]), 'TEST:', array([ 1,  3, 13]))\n",
      "   PlayGolf\n",
      "1        no\n",
      "3       yes\n",
      "13      yes\n",
      "('TRAIN:', array([11,  6,  5, 12,  0, 10,  4,  2,  8,  9,  7]), 'TEST:', array([ 3,  1, 13]))\n",
      "   PlayGolf\n",
      "3       yes\n",
      "1        no\n",
      "13      yes\n",
      "('TRAIN:', array([ 3, 12,  5,  7,  4, 10,  8,  9,  6,  1,  0]), 'TEST:', array([ 2, 11, 13]))\n",
      "   PlayGolf\n",
      "2       yes\n",
      "11       no\n",
      "13      yes\n"
     ]
    }
   ],
   "source": [
    "sss = StratifiedShuffleSplit(n_splits=5, test_size=0.2, random_state=42)\n",
    "print sss.get_n_splits(X, y)\n",
    "for train_index, test_index in sss.split(X, y):\n",
    "    print(\"TRAIN:\", train_index, \"TEST:\", test_index)\n",
    "    print y.loc[test_index]"
   ]
  },
  {
   "cell_type": "markdown",
   "metadata": {},
   "source": [
    ">stratified random splits do not guarantee that all folds will be different, although this is still very likely for sizeable datasets.\n",
    "\n",
    "Note sample 11 for 'no' is used twice, so is sample 1"
   ]
  },
  {
   "cell_type": "code",
   "execution_count": null,
   "metadata": {
    "collapsed": true
   },
   "outputs": [],
   "source": []
  }
 ],
 "metadata": {
  "kernelspec": {
   "display_name": "Python 2",
   "language": "python",
   "name": "python2"
  },
  "language_info": {
   "codemirror_mode": {
    "name": "ipython",
    "version": 2
   },
   "file_extension": ".py",
   "mimetype": "text/x-python",
   "name": "python",
   "nbconvert_exporter": "python",
   "pygments_lexer": "ipython2",
   "version": "2.7.14"
  }
 },
 "nbformat": 4,
 "nbformat_minor": 2
}
