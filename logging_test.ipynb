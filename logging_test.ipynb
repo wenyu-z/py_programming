{
 "cells": [
  {
   "cell_type": "markdown",
   "metadata": {},
   "source": [
    "#### Introduction\n",
    "This notebook contains example of logging results and errors, combined with scheduling\n",
    "\n",
    "Runs in Python 3"
   ]
  },
  {
   "cell_type": "code",
   "execution_count": 1,
   "metadata": {},
   "outputs": [
    {
     "data": {
      "text/plain": [
       "'3.5.2 (default, Nov 23 2017, 16:37:01) \\n[GCC 5.4.0 20160609]'"
      ]
     },
     "execution_count": 1,
     "metadata": {},
     "output_type": "execute_result"
    }
   ],
   "source": [
    "import sched\n",
    "import datetime, time\n",
    "import logging\n",
    "import sys\n",
    "sys.version"
   ]
  },
  {
   "cell_type": "markdown",
   "metadata": {},
   "source": [
    "#### Logging to a file\n",
    "`filemode='w'` overwrites previous logs from a previous Python session"
   ]
  },
  {
   "cell_type": "code",
   "execution_count": 2,
   "metadata": {},
   "outputs": [
    {
     "name": "stdout",
     "output_type": "stream",
     "text": [
      "DEBUG:root:This message should go to the log file\n",
      "INFO:root:So should this\n",
      "WARNING:root:And this, too\n",
      "\n"
     ]
    }
   ],
   "source": [
    "log_fn = 'example.log'\n",
    "\n",
    "logging.basicConfig(filename=log_fn, filemode='w', level=logging.DEBUG)\n",
    "logging.debug('This message should go to the log file')\n",
    "logging.info('So should this')\n",
    "logging.warning('And this, too')\n",
    "\n",
    "with open(log_fn, 'r') as f:\n",
    "    d = f.read()\n",
    "f.close()\n",
    "print(d)"
   ]
  },
  {
   "cell_type": "markdown",
   "metadata": {},
   "source": [
    "#### Logging Levels\n",
    "\n",
    "<table border=\"1\" class=\"docutils\">\n",
    "<colgroup>\n",
    "<col width=\"48%\">\n",
    "<col width=\"52%\">\n",
    "</colgroup>\n",
    "<thead valign=\"bottom\">\n",
    "<tr class=\"row-odd\"><th class=\"head\">Level</th>\n",
    "<th class=\"head\">Numeric value</th>\n",
    "</tr>\n",
    "</thead>\n",
    "<tbody valign=\"top\">\n",
    "<tr class=\"row-even\"><td><code class=\"docutils literal\"><span class=\"pre\">CRITICAL</span></code></td>\n",
    "<td>50</td>\n",
    "</tr>\n",
    "<tr class=\"row-odd\"><td><code class=\"docutils literal\"><span class=\"pre\">ERROR</span></code></td>\n",
    "<td>40</td>\n",
    "</tr>\n",
    "<tr class=\"row-even\"><td><code class=\"docutils literal\"><span class=\"pre\">WARNING</span></code></td>\n",
    "<td>30</td>\n",
    "</tr>\n",
    "<tr class=\"row-odd\"><td><code class=\"docutils literal\"><span class=\"pre\">INFO</span></code></td>\n",
    "<td>20</td>\n",
    "</tr>\n",
    "<tr class=\"row-even\"><td><code class=\"docutils literal\"><span class=\"pre\">DEBUG</span></code></td>\n",
    "<td>10</td>\n",
    "</tr>\n",
    "<tr class=\"row-odd\"><td><code class=\"docutils literal\"><span class=\"pre\">NOTSET</span></code></td>\n",
    "<td>0</td>\n",
    "</tr>\n",
    "</tbody>\n",
    "</table>"
   ]
  },
  {
   "cell_type": "markdown",
   "metadata": {},
   "source": [
    "#### Consecutive Logging\n",
    "`sched` code from another notebook\n",
    "\n",
    "Restart notebook and ONLY run the code below"
   ]
  },
  {
   "cell_type": "code",
   "execution_count": 1,
   "metadata": {},
   "outputs": [
    {
     "data": {
      "text/plain": [
       "'3.5.2 (default, Nov 23 2017, 16:37:01) \\n[GCC 5.4.0 20160609]'"
      ]
     },
     "execution_count": 1,
     "metadata": {},
     "output_type": "execute_result"
    }
   ],
   "source": [
    "import sched\n",
    "import datetime, time\n",
    "import logging\n",
    "import sys\n",
    "sys.version"
   ]
  },
  {
   "cell_type": "code",
   "execution_count": 2,
   "metadata": {},
   "outputs": [],
   "source": [
    "log_fn = 'sched_example.log'\n",
    "\n",
    "logging.basicConfig(\n",
    "    filename = log_fn,\n",
    "    filemode = 'w',\n",
    "    format='%(asctime)s.%(msecs)d:%(name)s:%(levelname)s:%(message)s',\n",
    "    datefmt='%Y-%m-%d %H:%M:%S',\n",
    "    level=logging.DEBUG\n",
    ")"
   ]
  },
  {
   "cell_type": "code",
   "execution_count": 3,
   "metadata": {},
   "outputs": [],
   "source": [
    "update_frequency = 10 # in seconds\n",
    "\n",
    "def func():\n",
    "    # print the date and time at the moment of execution\n",
    "    logging.debug('Logging')\n",
    "    \n",
    "def scheduler(sc, t_query, update_frequency, t_stop):\n",
    "    \n",
    "    t_query_next = t_query + update_frequency\n",
    "    \n",
    "    if t_query_next < t_stop:\n",
    "        t_query_next = t_query + update_frequency\n",
    "        s.enterabs(t_query_next, 1, scheduler, (sc, t_query_next, update_frequency, t_stop))\n",
    "    \n",
    "        #scheduled actions\n",
    "        func()\n",
    "    else:\n",
    "        logging.warning('Logging has stopped')"
   ]
  },
  {
   "cell_type": "code",
   "execution_count": 4,
   "metadata": {},
   "outputs": [],
   "source": [
    "s = sched.scheduler(time.time, time.sleep)\n",
    "t_init = time.time()\n",
    "t_stop = t_init + 3*update_frequency + 1\n",
    "\n",
    "s.enterabs(t_init, 1, scheduler, (s, t_init,update_frequency, t_stop))\n",
    "s.run()"
   ]
  },
  {
   "cell_type": "code",
   "execution_count": 5,
   "metadata": {},
   "outputs": [
    {
     "name": "stdout",
     "output_type": "stream",
     "text": [
      "2018-07-03 10:12:40.468:root:DEBUG:Logging\n",
      "2018-07-03 10:12:50.477:root:DEBUG:Logging\n",
      "2018-07-03 10:13:00.476:root:DEBUG:Logging\n",
      "2018-07-03 10:13:10.476:root:WARNING:Logging has stopped\n",
      "\n"
     ]
    }
   ],
   "source": [
    "with open(log_fn, 'r') as f:\n",
    "    d = f.read()\n",
    "f.close()\n",
    "print(d)"
   ]
  },
  {
   "cell_type": "code",
   "execution_count": null,
   "metadata": {},
   "outputs": [],
   "source": []
  }
 ],
 "metadata": {
  "kernelspec": {
   "display_name": "Python 3",
   "language": "python",
   "name": "python3"
  },
  "language_info": {
   "codemirror_mode": {
    "name": "ipython",
    "version": 3
   },
   "file_extension": ".py",
   "mimetype": "text/x-python",
   "name": "python",
   "nbconvert_exporter": "python",
   "pygments_lexer": "ipython3",
   "version": "3.5.2"
  }
 },
 "nbformat": 4,
 "nbformat_minor": 2
}
