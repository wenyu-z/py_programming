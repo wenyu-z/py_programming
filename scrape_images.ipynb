{
 "cells": [
  {
   "cell_type": "code",
   "execution_count": 13,
   "metadata": {
    "collapsed": true
   },
   "outputs": [],
   "source": [
    "from bs4 import BeautifulSoup\n",
    "import os, re\n",
    "from urllib2 import urlopen, URLError, HTTPError"
   ]
  },
  {
   "cell_type": "code",
   "execution_count": 18,
   "metadata": {
    "collapsed": true
   },
   "outputs": [],
   "source": [
    "url = 'http://www.har.com/3030-heritage-creek-ter/rent_30600600'\n",
    "prefix = 'http://llnw.harstatic.com'\n",
    "\n",
    "url = 'http://www.har.com/3019-heritage-creek-ter/sold_47308699'\n",
    "prefix = 'http://images-52.har.com'\n"
   ]
  },
  {
   "cell_type": "code",
   "execution_count": 19,
   "metadata": {},
   "outputs": [
    {
     "name": "stdout",
     "output_type": "stream",
     "text": [
      "64\n"
     ]
    }
   ],
   "source": [
    "page = urlopen(url).read()\n",
    "soup = BeautifulSoup(page, \"lxml\")\n",
    "eles = soup.find_all(lambda tag: tag.name == 'a' and tag.get('href') is not None \n",
    "                     and tag.get('href').startswith(prefix))\n",
    "print len(eles)"
   ]
  },
  {
   "cell_type": "code",
   "execution_count": 20,
   "metadata": {},
   "outputs": [
    {
     "name": "stdout",
     "output_type": "stream",
     "text": [
      "[<a href=\"http://images-52.har.com/e1/MediaDisplay/52/hr3813752-31.jpg?ts=2016-05-01T10:28:11.627\"></a>, <a href=\"http://images-52.har.com/e1/MediaDisplay/52/hr3813752-14.jpg?ts=2016-05-01T10:28:11.627\"></a>, <a href=\"http://images-52.har.com/e1/MediaDisplay/52/hr3813752-5.jpg?ts=2016-05-01T10:28:11.627\"></a>]\n"
     ]
    }
   ],
   "source": [
    "print eles[:3]"
   ]
  },
  {
   "cell_type": "code",
   "execution_count": 21,
   "metadata": {
    "collapsed": true
   },
   "outputs": [],
   "source": [
    "for ele in eles:\n",
    "    image_url = ele.get('href')\n",
    "    image_fn = image_url.split('?')[0].split('/')[-1]\n",
    "    image_res = urlopen(image_url)\n",
    "    with open(image_fn, 'wb') as f:\n",
    "        f.write(image_res.read())\n",
    "    f.close()\n",
    "    "
   ]
  },
  {
   "cell_type": "code",
   "execution_count": null,
   "metadata": {
    "collapsed": true
   },
   "outputs": [],
   "source": []
  }
 ],
 "metadata": {
  "kernelspec": {
   "display_name": "Python 2",
   "language": "python",
   "name": "python2"
  },
  "language_info": {
   "codemirror_mode": {
    "name": "ipython",
    "version": 2
   },
   "file_extension": ".py",
   "mimetype": "text/x-python",
   "name": "python",
   "nbconvert_exporter": "python",
   "pygments_lexer": "ipython2",
   "version": "2.7.13"
  }
 },
 "nbformat": 4,
 "nbformat_minor": 2
}
