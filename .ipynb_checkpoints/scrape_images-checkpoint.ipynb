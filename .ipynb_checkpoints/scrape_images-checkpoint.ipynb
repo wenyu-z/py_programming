{
 "cells": [
  {
   "cell_type": "code",
   "execution_count": 22,
   "metadata": {
    "collapsed": true
   },
   "outputs": [],
   "source": [
    "from bs4 import BeautifulSoup\n",
    "import os, re\n",
    "from urllib2 import urlopen, URLError, HTTPError"
   ]
  },
  {
   "cell_type": "code",
   "execution_count": 2,
   "metadata": {
    "collapsed": true
   },
   "outputs": [],
   "source": [
    "url = 'http://www.har.com/3030-heritage-creek-ter/rent_30600600'"
   ]
  },
  {
   "cell_type": "code",
   "execution_count": 77,
   "metadata": {},
   "outputs": [
    {
     "name": "stdout",
     "output_type": "stream",
     "text": [
      "60\n"
     ]
    }
   ],
   "source": [
    "page = urlopen(url).read()\n",
    "soup = BeautifulSoup(page, \"lxml\")\n",
    "eles = soup.find_all(lambda tag: tag.name == 'a' and tag.get('href') is not None \n",
    "                     and tag.get('href').startswith('http://llnw.harstatic.com'))\n",
    "print len(eles)"
   ]
  },
  {
   "cell_type": "code",
   "execution_count": 83,
   "metadata": {},
   "outputs": [
    {
     "name": "stdout",
     "output_type": "stream",
     "text": [
      "[<a href=\"http://llnw.harstatic.com/MediaDisplay/98/hr4165598-1.jpg?ts=2017-07-04T11:42:46.537\"></a>, <a href=\"http://llnw.harstatic.com/MediaDisplay/98/hr4165598-2.jpg?ts=2017-07-04T11:42:46.540\"></a>, <a href=\"http://llnw.harstatic.com/MediaDisplay/98/hr4165598-3.jpg?ts=2017-07-04T11:42:46.540\"></a>]\n"
     ]
    }
   ],
   "source": [
    "print eles[:3]"
   ]
  },
  {
   "cell_type": "code",
   "execution_count": 81,
   "metadata": {},
   "outputs": [],
   "source": [
    "for ele in eles:\n",
    "    image_url = ele.get('href')\n",
    "    image_fn = image_url.split('?')[0].split('/')[-1]\n",
    "    image_res = urlopen(image_url)\n",
    "    with open(image_fn, 'wb') as f:\n",
    "        f.write(image_res.read())\n",
    "    f.close()\n",
    "    "
   ]
  },
  {
   "cell_type": "code",
   "execution_count": null,
   "metadata": {
    "collapsed": true
   },
   "outputs": [],
   "source": [
    " "
   ]
  }
 ],
 "metadata": {
  "kernelspec": {
   "display_name": "Python 2",
   "language": "python",
   "name": "python2"
  },
  "language_info": {
   "codemirror_mode": {
    "name": "ipython",
    "version": 2
   },
   "file_extension": ".py",
   "mimetype": "text/x-python",
   "name": "python",
   "nbconvert_exporter": "python",
   "pygments_lexer": "ipython2",
   "version": "2.7.13"
  }
 },
 "nbformat": 4,
 "nbformat_minor": 2
}
