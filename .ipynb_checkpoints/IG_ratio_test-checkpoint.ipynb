{
 "cells": [
  {
   "cell_type": "code",
   "execution_count": 11,
   "metadata": {
    "collapsed": true
   },
   "outputs": [],
   "source": [
    "import pandas as pd\n",
    "import numpy as np"
   ]
  },
  {
   "cell_type": "code",
   "execution_count": 12,
   "metadata": {
    "collapsed": true
   },
   "outputs": [],
   "source": [
    "def calc_var_entropy(df, var):\n",
    "    total_count = len(df)\n",
    "    levels = df[var].unique()\n",
    "    per_level_count = df.groupby(by=var).agg('count').values[:,0]\n",
    "    prob = map(lambda x: x/float(total_count), per_level_count)\n",
    "    neglog = map(lambda x: -x*np.log2(x), prob)\n",
    "    entropy = reduce(lambda x,y: x+y, neglog)\n",
    "    return entropy\n",
    "\n",
    "def gain_ratio(df, features, target):\n",
    "    total_count = len(df)\n",
    "    target_entropy = calc_var_entropy(df, target)\n",
    "    gain_ratio_df = pd.DataFrame(columns=['feature', 'gain_ratio'])\n",
    "    \n",
    "    for feat in features:\n",
    "        target_entropy_per_feat_level = df.groupby(by = feat).apply(lambda dfnow: calc_var_entropy(dfnow, target)).values\n",
    "        per_level_count = df.groupby(by = feat).agg('count').values[:,0]\n",
    "        prob = map(lambda x: x/float(total_count), per_level_count)\n",
    "        neglog = map(lambda (prob_this_level, target_entropy_this_level): -prob_this_level*target_entropy_this_level,\n",
    "                         zip(prob, target_entropy_per_feat_level))\n",
    "        gain = target_entropy + np.sum(neglog)\n",
    "        split_info = calc_var_entropy(df, feat)\n",
    "        gain_ratio = gain/float(split_info)\n",
    "        gain_ratio_df = pd.concat((gain_ratio_df,\n",
    "                                  pd.DataFrame(columns=['feature', 'gain_ratio'],\n",
    "                                              data = [(feat, gain_ratio)])))\n",
    "    gain_ratio_df.sort_values(by = ['gain_ratio'], ascending = False, inplace = True)\n",
    "    gain_ratio_df.reset_index(inplace = True, drop = True)\n",
    "    return gain_ratio_df"
   ]
  },
  {
   "cell_type": "code",
   "execution_count": 13,
   "metadata": {},
   "outputs": [
    {
     "name": "stdout",
     "output_type": "stream",
     "text": [
      "  Var1   Var2\n",
      "0  Yes  Heads\n",
      "1  Yes   Tail\n",
      "2  Yes  Heads\n",
      "3  Yes   Tail\n",
      "4  Yes  Heads\n",
      "5  Yes   Tail\n",
      "6  Yes  Heads\n",
      "7  Yes   Tail\n",
      "8  Yes  Heads\n",
      "9  Yes   Tail\n"
     ]
    }
   ],
   "source": [
    "df = pd.DataFrame(columns = ['Var1', 'Var2'])\n",
    "df['Var1'] = ['Yes']*10\n",
    "df['Var2'] = ['Heads', 'Tail']*5\n",
    "print df"
   ]
  },
  {
   "cell_type": "markdown",
   "metadata": {},
   "source": [
    "## Low entropy, low disorder. Inforation is concentrated"
   ]
  },
  {
   "cell_type": "code",
   "execution_count": 14,
   "metadata": {
    "scrolled": true
   },
   "outputs": [
    {
     "name": "stdout",
     "output_type": "stream",
     "text": [
      "-0.0\n"
     ]
    }
   ],
   "source": [
    "print calc_var_entropy(df, 'Var1')"
   ]
  },
  {
   "cell_type": "markdown",
   "metadata": {},
   "source": [
    "## High entropy, high disorder. Information is random"
   ]
  },
  {
   "cell_type": "code",
   "execution_count": 15,
   "metadata": {},
   "outputs": [
    {
     "name": "stdout",
     "output_type": "stream",
     "text": [
      "1.0\n"
     ]
    }
   ],
   "source": [
    "print calc_var_entropy(df, 'Var2')"
   ]
  }
 ],
 "metadata": {
  "kernelspec": {
   "display_name": "Python 2",
   "language": "python",
   "name": "python2"
  },
  "language_info": {
   "codemirror_mode": {
    "name": "ipython",
    "version": 2
   },
   "file_extension": ".py",
   "mimetype": "text/x-python",
   "name": "python",
   "nbconvert_exporter": "python",
   "pygments_lexer": "ipython2",
   "version": "2.7.13"
  }
 },
 "nbformat": 4,
 "nbformat_minor": 2
}
