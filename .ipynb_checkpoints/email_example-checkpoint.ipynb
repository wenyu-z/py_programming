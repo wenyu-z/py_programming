{
 "cells": [
  {
   "cell_type": "code",
   "execution_count": 1,
   "metadata": {},
   "outputs": [
    {
     "data": {
      "text/plain": [
       "'3.6.5 |Anaconda, Inc.| (default, Apr 26 2018, 08:42:37) \\n[GCC 4.2.1 Compatible Clang 4.0.1 (tags/RELEASE_401/final)]'"
      ]
     },
     "execution_count": 1,
     "metadata": {},
     "output_type": "execute_result"
    }
   ],
   "source": [
    "import smtplib, json\n",
    "from email.mime.text import MIMEText\n",
    "from email.mime.application import MIMEApplication\n",
    "from email.mime.multipart import MIMEMultipart\n",
    "\n",
    "from os.path import basename\n",
    "import sys\n",
    "sys.version"
   ]
  },
  {
   "cell_type": "code",
   "execution_count": null,
   "metadata": {},
   "outputs": [],
   "source": [
    "name = 'Lebron'\n",
    "msg_header = 'Dear %s' % name\n",
    "msg_notes = 'This is an automatic note'\n",
    "msg_detail = 'If I had anything interesting to say, this would be the place to say it'\n",
    "att_file = 'ctfd.gif'\n",
    "\n",
    "entire_msg = '\\n\\n'.join(\n",
    "        (msg_header,\n",
    "         msg_notes,\n",
    "         msg_detail)\n",
    "        )\n",
    "\n",
    "msg = MIMEMultipart()\n",
    "\n",
    "me = 'me@company.com'\n",
    "you = [\n",
    "       'lebron@company.com',\n",
    "       'lbj@company.com',\n",
    "       ]\n",
    "\n",
    "msg['From'] = me\n",
    "COMMASPACE = ', '\n",
    "msg['To'] = COMMASPACE.join(you)\n",
    "\n",
    "msg['Subject'] = 'Congratulations on the Lakers deal!'\n",
    "\n",
    "msg.attach(MIMEText(entire_msg))\n",
    "\n",
    "with open(att_file, \"rb\") as fil:\n",
    "    part = MIMEApplication(\n",
    "        fil.read(),\n",
    "        Name=basename(att_file)\n",
    "    )\n",
    "fil.close()\n",
    "\n",
    "# After the file is closed\n",
    "part['Content-Disposition'] = 'attachment; filename=\"%s\"' % basename(att_file)\n",
    "msg.attach(part)\n",
    "\n",
    "smtp = smtplib.SMTP('smtp-int.company.com')\n",
    "smtp.sendmail(me, you, msg.as_string())\n",
    "smtp.quit()\n"
   ]
  },
  {
   "cell_type": "code",
   "execution_count": null,
   "metadata": {
    "collapsed": true
   },
   "outputs": [],
   "source": []
  }
 ],
 "metadata": {
  "kernelspec": {
   "display_name": "Python 3",
   "language": "python",
   "name": "python3"
  },
  "language_info": {
   "codemirror_mode": {
    "name": "ipython",
    "version": 3
   },
   "file_extension": ".py",
   "mimetype": "text/x-python",
   "name": "python",
   "nbconvert_exporter": "python",
   "pygments_lexer": "ipython3",
   "version": "3.6.5"
  }
 },
 "nbformat": 4,
 "nbformat_minor": 2
}
