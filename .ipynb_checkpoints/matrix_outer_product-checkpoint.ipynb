{
 "cells": [
  {
   "cell_type": "code",
   "execution_count": 1,
   "metadata": {
    "collapsed": true
   },
   "outputs": [],
   "source": [
    "import numpy as np"
   ]
  },
  {
   "cell_type": "markdown",
   "metadata": {},
   "source": [
    "#### Initialization of matrices and inner product"
   ]
  },
  {
   "cell_type": "code",
   "execution_count": 2,
   "metadata": {},
   "outputs": [
    {
     "name": "stdout",
     "output_type": "stream",
     "text": [
      "(2, 3)\n"
     ]
    }
   ],
   "source": [
    "a = np.array([[9, 3, 5], [4, 1, 2]])\n",
    "print a.shape"
   ]
  },
  {
   "cell_type": "code",
   "execution_count": 3,
   "metadata": {},
   "outputs": [
    {
     "name": "stdout",
     "output_type": "stream",
     "text": [
      "(3, 2)\n"
     ]
    }
   ],
   "source": [
    "b = np.array([[1, 3, 2], [2, -5, 3]]).T\n",
    "print b.shape"
   ]
  },
  {
   "cell_type": "code",
   "execution_count": 4,
   "metadata": {},
   "outputs": [
    {
     "name": "stdout",
     "output_type": "stream",
     "text": [
      "[[28 18]\n",
      " [11  9]]\n"
     ]
    }
   ],
   "source": [
    "c = np.dot(a, b)\n",
    "print c"
   ]
  },
  {
   "cell_type": "markdown",
   "metadata": {},
   "source": [
    "#### Outer product step by step"
   ]
  },
  {
   "cell_type": "code",
   "execution_count": 5,
   "metadata": {},
   "outputs": [
    {
     "name": "stdout",
     "output_type": "stream",
     "text": [
      "[[ 9 18]\n",
      " [ 4  8]]\n"
     ]
    }
   ],
   "source": [
    "c0 = np.dot(a[:, 0].reshape(-1, 1), b[0, :].reshape(1, -1))\n",
    "print c0"
   ]
  },
  {
   "cell_type": "code",
   "execution_count": 6,
   "metadata": {},
   "outputs": [
    {
     "name": "stdout",
     "output_type": "stream",
     "text": [
      "[[  9 -15]\n",
      " [  3  -5]]\n",
      "[[10 15]\n",
      " [ 4  6]]\n"
     ]
    }
   ],
   "source": [
    "c1 = np.dot(a[:, 1].reshape(-1, 1), b[1, :].reshape(1, -1))\n",
    "c2 = np.dot(a[:, 2].reshape(-1, 1), b[2, :].reshape(1, -1))\n",
    "\n",
    "print c1\n",
    "print c2"
   ]
  },
  {
   "cell_type": "code",
   "execution_count": 7,
   "metadata": {},
   "outputs": [
    {
     "name": "stdout",
     "output_type": "stream",
     "text": [
      "[[28 18]\n",
      " [11  9]]\n",
      "True\n"
     ]
    }
   ],
   "source": [
    "c_sum = c0 + c1 + c2\n",
    "print c_sum\n",
    "print (c_sum == c).all()"
   ]
  },
  {
   "cell_type": "markdown",
   "metadata": {},
   "source": [
    "#### Outer product with a function"
   ]
  },
  {
   "cell_type": "code",
   "execution_count": 8,
   "metadata": {
    "collapsed": true
   },
   "outputs": [],
   "source": [
    "# element-wise product of a column and a row\n",
    "ew_prod = lambda col,row: np.dot(col.reshape(-1, 1), row.reshape(1, -1))\n",
    "\n",
    "# outer product, map and reduce\n",
    "op = lambda x,y: reduce(\n",
    "                        lambda l,r: l+r, \n",
    "                           map(\n",
    "                           lambda i: ew_prod(x[:, i], y[i, :]), \n",
    "                               range(x.shape[1])\n",
    "                           )\n",
    "                       )"
   ]
  },
  {
   "cell_type": "code",
   "execution_count": 9,
   "metadata": {},
   "outputs": [
    {
     "name": "stdout",
     "output_type": "stream",
     "text": [
      "[[28 18]\n",
      " [11  9]]\n",
      "True\n"
     ]
    }
   ],
   "source": [
    "c_op = op(a, b)\n",
    "print c_op\n",
    "print (c_op == c).all()"
   ]
  },
  {
   "cell_type": "markdown",
   "metadata": {},
   "source": [
    "#### Test on a larger matrix"
   ]
  },
  {
   "cell_type": "code",
   "execution_count": 10,
   "metadata": {
    "collapsed": true
   },
   "outputs": [],
   "source": [
    "x = np.random.randint(0, 1000, size=(1000, 5))"
   ]
  },
  {
   "cell_type": "code",
   "execution_count": 11,
   "metadata": {},
   "outputs": [
    {
     "name": "stdout",
     "output_type": "stream",
     "text": [
      "True\n"
     ]
    }
   ],
   "source": [
    "c = np.dot(x.T, x)\n",
    "c_op = op(x.T, x)\n",
    "print (c_op == c).all()"
   ]
  },
  {
   "cell_type": "code",
   "execution_count": null,
   "metadata": {
    "collapsed": true
   },
   "outputs": [],
   "source": []
  }
 ],
 "metadata": {
  "kernelspec": {
   "display_name": "Python 2",
   "language": "python",
   "name": "python2"
  },
  "language_info": {
   "codemirror_mode": {
    "name": "ipython",
    "version": 2
   },
   "file_extension": ".py",
   "mimetype": "text/x-python",
   "name": "python",
   "nbconvert_exporter": "python",
   "pygments_lexer": "ipython2",
   "version": "2.7.14"
  }
 },
 "nbformat": 4,
 "nbformat_minor": 2
}
