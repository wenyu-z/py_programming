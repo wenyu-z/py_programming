{
 "cells": [
  {
   "cell_type": "code",
   "execution_count": 1,
   "metadata": {},
   "outputs": [],
   "source": [
    "import xgboost as xgb\n",
    "import os\n",
    "from sklearn.metrics import roc_curve\n",
    "import matplotlib.pyplot as plt"
   ]
  },
  {
   "cell_type": "code",
   "execution_count": 2,
   "metadata": {},
   "outputs": [
    {
     "name": "stdout",
     "output_type": "stream",
     "text": [
      "agaricus.txt.test  agaricus.txt.train svm.ipynb          xgboost.ipynb\r\n"
     ]
    }
   ],
   "source": [
    "!ls"
   ]
  },
  {
   "cell_type": "code",
   "execution_count": 3,
   "metadata": {},
   "outputs": [
    {
     "name": "stdout",
     "output_type": "stream",
     "text": [
      "Training data is 6513 by 127\n",
      "Testing data is 1611 by 127\n",
      "Training data class 1 count 3140.0, 48.21% of total\n",
      "Testing data class 1 count 776.0, 48.17% of total\n"
     ]
    }
   ],
   "source": [
    "# read in data\n",
    "dtrain = xgb.DMatrix('agaricus.txt.train')\n",
    "dtest = xgb.DMatrix('agaricus.txt.test')\n",
    "\n",
    "# inspect data\n",
    "print 'Training data is {} by {}'.format(dtrain.num_row(), dtrain.num_col())\n",
    "print 'Testing data is {} by {}'.format(dtest.num_row(), dtest.num_col())\n",
    "\n",
    "print 'Training data class 1 count {0}, {1:.2f}% of total' \\\n",
    "    .format(dtrain.get_label().sum(), dtrain.get_label().sum()*100/dtrain.num_row())\n",
    "print 'Testing data class 1 count {0}, {1:.2f}% of total' \\\n",
    "    .format(dtest.get_label().sum(), dtest.get_label().sum()*100/dtest.num_row())"
   ]
  },
  {
   "cell_type": "code",
   "execution_count": 4,
   "metadata": {},
   "outputs": [
    {
     "name": "stdout",
     "output_type": "stream",
     "text": [
      "Prediction [ 0.28583017  0.92392391  0.28583017 ...,  0.92392391  0.05169873\n",
      "  0.92392391]\n"
     ]
    }
   ],
   "source": [
    "# specify parameters via map\n",
    "param = {'max_depth':2, 'eta':1, 'silent':1, 'objective':'binary:logistic' }\n",
    "num_round = 2\n",
    "bst = xgb.train(param, dtrain, num_round)\n",
    "\n",
    "# make prediction\n",
    "preds = bst.predict(dtest)\n",
    "\n",
    "# check predictions\n",
    "print 'Prediction', preds"
   ]
  },
  {
   "cell_type": "code",
   "execution_count": 7,
   "metadata": {},
   "outputs": [
    {
     "data": {
      "image/png": "[encoded data removed]",
      "text/plain": [
       "<matplotlib.figure.Figure at 0x109479110>"
      ]
     },
     "metadata": {},
     "output_type": "display_data"
    }
   ],
   "source": [
    "fpr, tpr, thresholds = roc_curve(dtest.get_label(), preds)\n",
    "\n",
    "plt.figure(figsize=(6, 6))\n",
    "plt.plot(fpr, tpr, 'ko--', linewidth=4, markersize=10, alpha=0.7)\n",
    "plt.xlabel('FPR', fontsize = 16); plt.ylabel('TPR', fontsize = 16)\n",
    "plt.grid()\n",
    "plt.show()"
   ]
  },
  {
   "cell_type": "code",
   "execution_count": null,
   "metadata": {},
   "outputs": [],
   "source": []
  }
 ],
 "metadata": {
  "kernelspec": {
   "display_name": "Python 2",
   "language": "python",
   "name": "python2"
  },
  "language_info": {
   "codemirror_mode": {
    "name": "ipython",
    "version": 2
   },
   "file_extension": ".py",
   "mimetype": "text/x-python",
   "name": "python",
   "nbconvert_exporter": "python",
   "pygments_lexer": "ipython2",
   "version": "2.7.14"
  }
 },
 "nbformat": 4,
 "nbformat_minor": 2
}
