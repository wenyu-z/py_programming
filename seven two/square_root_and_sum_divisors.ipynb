{
 "cells": [
  {
   "cell_type": "code",
   "execution_count": 1,
   "metadata": {
    "collapsed": true
   },
   "outputs": [],
   "source": [
    "from test_helper import Test\n",
    "import time"
   ]
  },
  {
   "cell_type": "markdown",
   "metadata": {},
   "source": [
    "### 1"
   ]
  },
  {
   "cell_type": "markdown",
   "metadata": {},
   "source": [
    "Calculate square root of an integer, without using any pacakges like `numpy` or the `**` operator"
   ]
  },
  {
   "cell_type": "code",
   "execution_count": 2,
   "metadata": {
    "collapsed": true
   },
   "outputs": [],
   "source": [
    "# 7 lines altogether\n",
    "def root(n, precision):\n",
    "    lastguess = n/2.\n",
    "    guess = (lastguess + n/lastguess)/2\n",
    "    while abs(guess - lastguess) >= precision:\n",
    "        lastguess = guess\n",
    "        guess = (lastguess + n/lastguess)/2\n",
    "    return guess\n",
    "\n",
    "# 7 lines altogether\n",
    "def root2(n, precision):\n",
    "    lastguess = n/2.\n",
    "    while True:\n",
    "        guess = (lastguess + n/lastguess)/2\n",
    "        if abs(guess - lastguess) < precision:\n",
    "            return guess\n",
    "        lastguess = guess"
   ]
  },
  {
   "cell_type": "code",
   "execution_count": 3,
   "metadata": {},
   "outputs": [
    {
     "name": "stdout",
     "output_type": "stream",
     "text": [
      "2.0\n",
      "2.0\n"
     ]
    }
   ],
   "source": [
    "print root(4, 0.1)\n",
    "print root2(4, 0.1)"
   ]
  },
  {
   "cell_type": "code",
   "execution_count": 4,
   "metadata": {},
   "outputs": [
    {
     "name": "stdout",
     "output_type": "stream",
     "text": [
      "10.0000000001\n",
      "10.0000000001\n"
     ]
    }
   ],
   "source": [
    "print root(100, 0.0001)\n",
    "print root2(100, 0.0001)"
   ]
  },
  {
   "cell_type": "code",
   "execution_count": 5,
   "metadata": {},
   "outputs": [
    {
     "name": "stdout",
     "output_type": "stream",
     "text": [
      "15.4596248337\n",
      "15.4596248337\n"
     ]
    }
   ],
   "source": [
    "print root(239, 0.0001)\n",
    "print root2(239, 0.0001)"
   ]
  },
  {
   "cell_type": "markdown",
   "metadata": {},
   "source": [
    "### 2"
   ]
  },
  {
   "cell_type": "markdown",
   "metadata": {},
   "source": [
    "Given a list of integers, for each integer\n",
    "1. Find all of its divisors that are **odd** (1 and the integer included)\n",
    "2. Find the summation of these divisors\n",
    "\n",
    "Then find the summation of all the summations"
   ]
  },
  {
   "cell_type": "code",
   "execution_count": 6,
   "metadata": {
    "collapsed": true
   },
   "outputs": [],
   "source": [
    "# Search fully\n",
    "def sum_array(array):\n",
    "    return sum(map(sum_div, array)) \n",
    "    \n",
    "def sum_div(n):\n",
    "    divs = [i for i in range(1, n + 1) if n%i ==0 and i%2 == 1]\n",
    "    return sum(divs)\n",
    "\n",
    "# Search half, and skipping even numbers\n",
    "def sum_array2(array):\n",
    "    return sum(map(sum_div2, array))\n",
    "\n",
    "def sum_div2(n):\n",
    "    if n== 1: return 1\n",
    "    divs = [i for i in range(1, n/2+1, 2) if n%i == 0]\n",
    "    return sum(divs)+n if n%2 == 1 else sum(divs)\n",
    "\n",
    "# Search up to sqrt\n",
    "def sum_array3(array):\n",
    "    return sum(map(sum_div3, array))\n",
    "\n",
    "def sum_div3(n):\n",
    "    if n == 1: return 1\n",
    "    \n",
    "    i = 1\n",
    "    ret = 0\n",
    "    while i <= n**0.5:\n",
    "        if n%i ==0:\n",
    "            ret += i if i%2 == 1 else 0\n",
    "            ret += n/i if n/i%2 == 1 and i!=n/i else 0\n",
    "        i += 1\n",
    "        \n",
    "    return ret"
   ]
  },
  {
   "cell_type": "code",
   "execution_count": 7,
   "metadata": {},
   "outputs": [
    {
     "name": "stdout",
     "output_type": "stream",
     "text": [
      "1 test passed.\n",
      "1 test passed.\n",
      "1 test passed.\n",
      "1 test passed.\n"
     ]
    }
   ],
   "source": [
    "Test.assertEquals(sum_div(1), 1)\n",
    "Test.assertEquals(sum_div(6), 4)\n",
    "Test.assertEquals(sum_div(9), 13)\n",
    "Test.assertEquals(sum_array([1, 6, 9]), 18)"
   ]
  },
  {
   "cell_type": "code",
   "execution_count": 8,
   "metadata": {},
   "outputs": [
    {
     "name": "stdout",
     "output_type": "stream",
     "text": [
      "1 test passed.\n",
      "1 test passed.\n",
      "1 test passed.\n",
      "1 test passed.\n"
     ]
    }
   ],
   "source": [
    "Test.assertEquals(sum_div2(1), 1)\n",
    "Test.assertEquals(sum_div2(6), 4)\n",
    "Test.assertEquals(sum_div2(9), 13)\n",
    "Test.assertEquals(sum_array2([1, 6, 9]), 18)"
   ]
  },
  {
   "cell_type": "code",
   "execution_count": 9,
   "metadata": {},
   "outputs": [
    {
     "name": "stdout",
     "output_type": "stream",
     "text": [
      "1 test passed.\n",
      "1 test passed.\n",
      "1 test passed.\n",
      "1 test passed.\n"
     ]
    }
   ],
   "source": [
    "Test.assertEquals(sum_div3(1), 1)\n",
    "Test.assertEquals(sum_div3(6), 4)\n",
    "Test.assertEquals(sum_div3(9), 13)\n",
    "Test.assertEquals(sum_array3([1, 6, 9]), 18)"
   ]
  },
  {
   "cell_type": "markdown",
   "metadata": {},
   "source": [
    "Testing computation time"
   ]
  },
  {
   "cell_type": "code",
   "execution_count": 10,
   "metadata": {
    "collapsed": true
   },
   "outputs": [],
   "source": [
    "array = range(1, 10000)"
   ]
  },
  {
   "cell_type": "code",
   "execution_count": 11,
   "metadata": {},
   "outputs": [
    {
     "name": "stdout",
     "output_type": "stream",
     "text": [
      "Method 1:  9.12692189217\n"
     ]
    }
   ],
   "source": [
    "t1 = time.time()\n",
    "sum_array(array)\n",
    "print 'Method 1: ', time.time()-t1"
   ]
  },
  {
   "cell_type": "code",
   "execution_count": 12,
   "metadata": {},
   "outputs": [
    {
     "name": "stdout",
     "output_type": "stream",
     "text": [
      "Method 2:  2.25058293343\n"
     ]
    }
   ],
   "source": [
    "t1 = time.time()\n",
    "sum_array2(array)\n",
    "print 'Method 2: ', time.time()-t1"
   ]
  },
  {
   "cell_type": "code",
   "execution_count": 13,
   "metadata": {},
   "outputs": [
    {
     "name": "stdout",
     "output_type": "stream",
     "text": [
      "Method 3:  0.309303998947\n"
     ]
    }
   ],
   "source": [
    "t1 = time.time()\n",
    "sum_array3(array)\n",
    "print 'Method 3: ', time.time()-t1"
   ]
  },
  {
   "cell_type": "code",
   "execution_count": null,
   "metadata": {
    "collapsed": true
   },
   "outputs": [],
   "source": []
  }
 ],
 "metadata": {
  "kernelspec": {
   "display_name": "Python 2",
   "language": "python",
   "name": "python2"
  },
  "language_info": {
   "codemirror_mode": {
    "name": "ipython",
    "version": 2
   },
   "file_extension": ".py",
   "mimetype": "text/x-python",
   "name": "python",
   "nbconvert_exporter": "python",
   "pygments_lexer": "ipython2",
   "version": "2.7.14"
  }
 },
 "nbformat": 4,
 "nbformat_minor": 2
}
