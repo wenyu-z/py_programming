{
 "cells": [
  {
   "cell_type": "markdown",
   "metadata": {},
   "source": [
    "### 1. Setting up functions and initializing "
   ]
  },
  {
   "cell_type": "code",
   "execution_count": null,
   "metadata": {},
   "outputs": [],
   "source": [
    "print sc.version\n",
    "print os.getcwd()\n",
    "import time, re, datetime, time, os\n",
    "import numpy as np\n",
    "import pandas as pd\n",
    "\n",
    "def isdigit(text):\n",
    "    try:\n",
    "        float(text)\n",
    "        return True\n",
    "    except ValueError:\n",
    "        return False\n",
    "\n",
    "extractTimeStamp = re.compile('^\\w{3}\\s\\w{3}\\s\\d{2}\\s\\d{2}:\\d{2}:\\d{2}\\s\\d{4}')\n",
    "\n",
    "def str2dateTime(sDate):\n",
    "    return datetime.datetime.strptime(sDate, '%a %b %d %H:%M:%S %Y')\n",
    "\n",
    "def str2utc(sDate):\n",
    "    pattern = '%a %b %d %H:%M:%S %Y'\n",
    "    return time.mktime(time.strptime(sDate, pattern))"
   ]
  },
  {
   "cell_type": "code",
   "execution_count": 3,
   "metadata": {},
   "outputs": [
    {
     "name": "stdout",
     "output_type": "stream",
     "text": [
      "33.4264008999\n"
     ]
    }
   ],
   "source": [
    "t1 = time.time()\n",
    "rdd = sc.textFile('ensco5006/*.log',100)\n",
    "\n",
    "rddtotal = rdd.count()\n",
    "print time.time()-t1\n"
   ]
  },
  {
   "cell_type": "markdown",
   "metadata": {},
   "source": [
    "### 2. All combinations including alarms and events that potentially not needed for analysis"
   ]
  },
  {
   "cell_type": "markdown",
   "metadata": {},
   "source": [
    "#### when result is empty, it means the regex combinations are enough to find all the alamrs in a cell"
   ]
  },
  {
   "cell_type": "code",
   "execution_count": 108,
   "metadata": {},
   "outputs": [
    {
     "name": "stdout",
     "output_type": "stream",
     "text": [
      "[]\n"
     ]
    }
   ],
   "source": [
    "rddparsed1 = (rdd.filter(lambda line: '>' in line)\n",
    "              .filter(lambda line: '->' not in line)\n",
    "              .filter(lambda line: re.compile('(\\D+) is  > (\\d+)psi; @ (\\d+)psi is in a NORMAL state, Tagname = (\\D+)').search(line) is None)\n",
    "              .filter(lambda line: re.compile('(\\D+) >(\\d+)psi; @ (\\d+)psi is in a NORMAL state, Tagname = (\\D+)').search(line) is None)\n",
    "              .filter(lambda line: re.compile('(\\D+) > (\\d+)psi; @ (\\d+)psi is in a NORMAL state, Tagname = (\\D+)').search(line) is None)\n",
    "              .take(10)\n",
    "              )\n",
    "\n",
    "print rddparsed1\n"
   ]
  },
  {
   "cell_type": "code",
   "execution_count": 103,
   "metadata": {},
   "outputs": [
    {
     "name": "stdout",
     "output_type": "stream",
     "text": [
      "[]\n"
     ]
    }
   ],
   "source": [
    "rddparsed1 = (rdd.filter(lambda line: '<' in line)\n",
    "              .filter(lambda line: re.compile('(\\D+) is  < (\\d+)psi; @ (\\d+)psi is in (an|a) ALARM state, Tagname = (\\D+)').search(line) is None)\n",
    "              .filter(lambda line: re.compile('(\\D+) < (\\d+)psi; @ (\\d+)psi is in (an|a) ALARM state, Tagname = (\\D+)').search(line) is None)\n",
    "              .filter(lambda line: re.compile('(\\D+) < (\\d+)psi; @ -(\\d+)psi is in (an|a) ALARM state, Tagname = (\\D+)').search(line) is None)\n",
    "              .filter(lambda line: re.compile('(\\D+) < (\\d+) is in (a|an) (NORMAL|ALARM) state(;|,) (Tagname|TagName) = ').search(line) is None)\n",
    "              .filter(lambda line: re.compile('(\\D+) < (\\d+) is in (NORMAL|ALARM) state; (Tagname|TagName) = ').search(line) is None)\n",
    "              .take(10)\n",
    "              )\n",
    "\n",
    "print rddparsed1"
   ]
  },
  {
   "cell_type": "code",
   "execution_count": 90,
   "metadata": {},
   "outputs": [
    {
     "name": "stdout",
     "output_type": "stream",
     "text": [
      "[]\n"
     ]
    }
   ],
   "source": [
    "rddparsed1 = (rdd.filter(lambda line: '=' in line)\n",
    "             .filter(lambda line: '<' not in line)\n",
    "             .filter(lambda line: '>' not in line)\n",
    "              .filter(lambda line: re.compile('is in an ALARM state, Tagname = (\\D+)').search(line) is None)\n",
    "              .filter(lambda line: re.compile('is in a NORMAL state, Tagname = (\\D+)').search(line) is None)\n",
    "              .filter(lambda line: re.compile('is Not in an Alarm state, Tagname = (\\D+)').search(line) is None)\n",
    "              .filter(lambda line: re.compile('is Not in Alarm State, Tagname = (\\D+)').search(line) is None)\n",
    "              .filter(lambda line: re.compile('is in Alarm State, Tagname = (\\D+)').search(line) is None)\n",
    "              .filter(lambda line: re.compile('is  Not in Alarm State, Tagname = (\\D+)').search(line) is None)\n",
    "#             .filter(lambda line: re.compile('(\\D+) CC Plc Receive data has not changed for 45 sec is in an ALARM state, Tagname = (\\D+)').search(line) is None)\n",
    "#             .filter(lambda line: re.compile('(\\D+) CC Plc Receive data has not changed for 45 sec is in a NORMAL state, Tagname = (\\D+)').search(line) is None)\n",
    "#             .filter(lambda line: 'HPU Main Accumulator Press Lo ALARM is in a NORMAL state, Tagname = HPU_MAINACC_PRESS_LO_ALM' not in line)\n",
    "#         .filter(lambda line: 'HPU Main Accumulator Press Lo ALARM is in an ALARM state, Tagname = HPU_MAINACC_PRESS_LO_ALM' not in line)\n",
    "#              .filter(lambda line: re.compile('UPS (A|B) LOSS OF POWER is Not in Alarm State, Tagname = ').search(line) is None)\n",
    "#              .filter(lambda line: re.compile('UPS (A|B) LOSS OF POWER is in Alarm State, Tagname = ').search(line) is None)\n",
    "           .filter(lambda line: re.compile('Hourly Log : (Yellow|Blue) Pod Leakage = (\\d+).(\\d+) gal').search(line) is None)\n",
    "          .filter(lambda line: re.compile('(Yellow|Blue) (A|B) Flowmeter Flow Stopped. Total Flow = (\\d+).(\\d+) gal in (\\d+) Seconds.').search(line) is None)\n",
    "          .filter(lambda line: re.compile('(Yellow|Blue) (A|B) Flowmeter. Leakage = (\\d+).(\\d+) gal').search(line) is None)\n",
    "            .filter(lambda line: re.compile('(Yellow|Blue) (A|B) Flowmeter leakage = (\\d+).(\\d+) gal; Cleared').search(line) is None)\n",
    "             .take(10))\n",
    "print rddparsed1"
   ]
  },
  {
   "cell_type": "code",
   "execution_count": 140,
   "metadata": {},
   "outputs": [
    {
     "name": "stdout",
     "output_type": "stream",
     "text": [
      "[]\n"
     ]
    }
   ],
   "source": [
    "rddparsed1 = (rdd.filter(lambda line: '=' not in line)\n",
    "              .filter(lambda line: '>' not in line)\n",
    "              .filter(lambda line: 'Multiple valve command from' not in line)\n",
    "              .filter(lambda line: not line.endswith('      Lock or Unlock Commands in this Multiple Valve Command.'))\n",
    "              .filter(lambda line: not line.endswith('      No Valve Commands in this Multiple Valve Command.'))\n",
    "              \n",
    "              \n",
    "              .filter(lambda line: re.compile('E-PUMP-(\\d) is (Running|Stopped)').search(line) is None)\n",
    "              .filter(lambda line: re.compile('Lube Pump is (Running|Stopped)').search(line) is None)\n",
    "              .filter(lambda line: re.compile('Glycol Pump is (Running|Stopped)').search(line) is None)\n",
    "              \n",
    "              .filter(lambda line: re.compile('(Blue|Yellow) (A|B) SEM is available.').search(line) is None)\n",
    "              .filter(lambda line: re.compile('(Blue|Yellow) (A|B) SEM is NOT available.').search(line) is None)\n",
    "              \n",
    "              .filter(lambda line: not line.endswith('The BOP Test Box is Active'))\n",
    "              .filter(lambda line: not line.endswith('The BOP Test Box is Not Active'))\n",
    "              \n",
    "              .filter(lambda line: re.compile('(Blue|Yellow) (A|B) Sem Commanded by: BOP Test Box').search(line) is None)\n",
    "              .filter(lambda line: re.compile('(Blue|Yellow) (A|B) Sem Commanded by: DCP (A|B)').search(line) is None)\n",
    "              .filter(lambda line: re.compile('(Blue|Yellow) (A|B) Sem Commanded by: Source address not received in time').search(line) is None)\n",
    "              \n",
    "              .filter(lambda line: re.compile('(Blue|Yellow) (A|B) Flowmeter Flow Started').search(line) is None)\n",
    "              \n",
    "              #Multi-line starts\n",
    "              .filter(lambda line: re.compile('(Ya|Ba|Yb|Bb) (\\D+) Received Auto SEM Regulate Command for Analog Channel (\\d)').search(line) is None)\n",
    "              .filter(lambda line: re.compile('     Set to (\\d+) psi').search(line) is None)\n",
    "              .filter(lambda line: re.compile('     Set to -(\\d+) psi').search(line) is None)\n",
    "              #Multi-line ends\n",
    "              \n",
    "              .filter(lambda line: re.compile('TCP (Left|Right) Enable (Up|Down)').search(line) is None)\n",
    "              .filter(lambda line: re.compile('DCP (Left|Right) Enable (Up|Down)').search(line) is None)\n",
    "              \n",
    "              .filter(lambda line: re.compile('(Blue|Yellow) (A|B) Sem Commanded by: TCP (A|B)').search(line) is None)\n",
    "              \n",
    "              .filter(lambda line: re.compile('The (Tcp|Dcp) Run and Pull Mode is (Enabled|Disabled)').search(line) is None)\n",
    "              \n",
    "              .filter(lambda line: not line.endswith('No Soleniods with Bad DSDM Error Code.'))\n",
    "              .filter(lambda line: re.compile('(\\d+) Soleniods with Bad DSDM Error Code. See the Alarms screen, Show Faults and Mismatches.').search(line) is None)\n",
    "              \n",
    "              .filter(lambda line: re.compile('Heartbeat Loss, the (TCP|DCP) (A|B) HMI is Not Available').search(line) is None)\n",
    "              .filter(lambda line: re.compile('Heartbeat Loss, the (TCP|DCP|HPU)  PLC is Not Available').search(line) is None)\n",
    "              .filter(lambda line: re.compile('Heartbeat Ok, the (TCP|DCP) (A|B) HMI is Available').search(line) is None)\n",
    "              .filter(lambda line: re.compile('Heartbeat Ok, the (TCP|DCP|HPU)  PLC is Available').search(line) is None)\n",
    "              \n",
    "              \n",
    "              .filter(lambda line: re.compile('The Event Logger is (Shutting Down|Powering Up|is using WW Tag Names|using WW Tag Names)').search(line) is None)\n",
    "              \n",
    "              .filter(lambda line: re.compile('Remote Eds (is DISABLED|Trigger is OFF)').search(line) is None)\n",
    "              \n",
    "              .filter(lambda line: re.compile('(Blue|Yellow) (A|B) CC PLC is  generating the heartbeat.').search(line) is None)\n",
    "              .filter(lambda line: re.compile('(Blue|Yellow) (A|B) CC PLC is not generating the heartbeat.').search(line) is None)\n",
    "              \n",
    "              .filter(lambda line: re.compile('(TCPA|DCPA|TCPB|DCPB) has (Initiated an|completed the) Align Sem').search(line) is None)\n",
    "              \n",
    "              .filter(lambda line: not line.endswith('Power On,  The Active Sem is Unknown'))\n",
    "              \n",
    "              \n",
    "              .take(10))\n",
    "\n",
    "print rddparsed1"
   ]
  },
  {
   "cell_type": "markdown",
   "metadata": {},
   "source": [
    "### 3. Parsing analog data and commands"
   ]
  },
  {
   "cell_type": "markdown",
   "metadata": {},
   "source": [
    "#### 3.1 Analog data which has 2 dashes in the line"
   ]
  },
  {
   "cell_type": "code",
   "execution_count": 3,
   "metadata": {},
   "outputs": [],
   "source": [
    "#Parsing lines with 2 dashes '-->'\n",
    "rddparsed1 = (\n",
    "    rdd.filter(lambda line: '-->' in line)\n",
    "    .filter(lambda line: '--->' not in line)\n",
    "    .map(lambda line: re.sub(' +',' ',line))\n",
    "    .map(lambda line: (extractTimeStamp.findall(line)[0], extractTimeStamp.split(line)[1].lstrip()))\n",
    "    .map(lambda (timestamp, line): (str(line.split('-->')[0].rstrip().rsplit(' ',1)[0].replace(' ','_')),\n",
    "                                    np.array([str2utc(timestamp),\n",
    "                                              float(line.split('-->')[0].rstrip().rsplit(' ',1)[1]),\n",
    "                                              float(line.split('-->')[1].lstrip().rsplit(' ',1)[0]),\n",
    "                                              line.split('-->')[1].lstrip().rsplit(' ',1)[1]])))\n",
    "    .reduceByKey(lambda accum, n: np.vstack((accum,n)))\n",
    "    .map(lambda (var, array): (var, pd.DataFrame(data=array, columns=['AcqTime','From','To','Unit'])))\n",
    "    .collect()\n",
    ")\n",
    "\n",
    "for (var, df) in rddparsed1:\n",
    "    df.to_csv(os.path.join('ensco5006',var+'.csv'), index=False)\n",
    "    \n",
    "# print rddparsed1.map(lambda (var, df):var).collect()\n",
    "# print rddparsed1.map(lambda (var, df): (var, df.head(5))).take(1)\n"
   ]
  },
  {
   "cell_type": "markdown",
   "metadata": {},
   "source": [
    "#### 3.2 Check lines with 3 dashes, and see what data is in all the files. Check whether the states on left and right hand sides are numerical, which would be ananlog data, or string, which would be commands"
   ]
  },
  {
   "cell_type": "code",
   "execution_count": 8,
   "metadata": {},
   "outputs": [
    {
     "name": "stdout",
     "output_type": "stream",
     "text": [
      "rddpasred2\n",
      "[u'Mon Apr 04 12:15:12 2016 Blue A Stack Inclination X-Direction 1.36 ---> -0.64 degrees', u'Mon Apr 04 12:15:12 2016 Blue A SEM Temperature 102.92 ---> 32.00 DegF', u'Mon Apr 04 12:15:12 2016 Blue A SEM Humidity 16.30 ---> 0.00 Percent', u'Mon Apr 04 12:15:14 2016 Yellow A Stack Inclination X-Direction -0.26 ---> 0.88 degrees', u'Mon Apr 04 12:15:14 2016 Blue A SEM Temperature 32.00 ---> 89.78 DegF']\n",
      "rddpasred3\n",
      "[u'Fri Apr 01 22:03:37 2016 HPU MUD GAS SEPERATOR VALVE CLOSE ---> Fault', u'Sat Apr 02 00:17:20 2016 HPU TRIP TANK RETURN VALVE OPEN ---> Fault', u'Sat Apr 02 01:43:36 2016 HPU TRIP TANK FILL-IN VALVE CLOSE ---> Fault', u'Sat Apr 02 01:54:48 2016 HPU RESET RING TO DIV HSING LOCK ---> Fault', u'Sat Apr 02 03:42:13 2016 HPU DIVERTER LOCKDOWN DOGS UNLOCK ---> Fault']\n",
      "rddpasred4\n",
      "[u'Mon Apr 04 12:15:14 2016 SEM Blue A UPPER ANNULAR PREVENTER **ERROR** Valve Status = 123 ---> VENT', u'Mon Apr 04 12:15:14 2016 SEM Blue A LMRP CONNECTOR **ERROR** Valve Status = 123 ---> VENT', u'Mon Apr 04 12:15:14 2016 SEM Blue A LMRP CONNECTOR SEC **ERROR** Valve Status = 123 ---> VENT', u'Mon Apr 04 12:15:14 2016 SEM Blue A LMRP CONNECTOR GASKET **ERROR** Valve Status = 123 ---> HOLD', u'Mon Apr 04 12:15:14 2016 SEM Blue A LOWER ANNULAR PREVENTER **ERROR** Valve Status = 123 ---> VENT']\n",
      "rddpasred42\n",
      "[u'Mon Apr 04 15:45:33 2016 Yellow A CC received a single valve command from BOP Test Box: RAM 1 ---> CLOSE', u'Mon Apr 04 15:45:33 2016 Blue A CC received a single valve command from BOP Test Box: RAM 1 ---> CLOSE', u'Mon Apr 04 15:45:33 2016 Yellow B CC received a single valve command from BOP Test Box: RAM 1 ---> CLOSE', u'Mon Apr 04 15:45:33 2016 Blue B CC received a single valve command from BOP Test Box: RAM 1 ---> CLOSE', u'Mon Apr 04 15:45:33 2016 Yellow B CC received a single valve command from BOP Test Box: RAM 1 ---> CLOSE']\n",
      "rddpasred43\n",
      "[]\n",
      "rddparsed6\n",
      "[u'       LMRP ACCUMULATOR DUMP ----> ISOLATE', u'       BLUE CONDUIT ISOLATOR ----> OPEN', u'       YELLOW CONDUIT FLUSH ----> CLOSE', u'       MUX SPARE 10 ----> VENT', u'       BLUE PILOT SUPPLY ISOLATOR ----> OPEN']\n",
      "rddparsed62\n",
      "[u'Mon Apr 04 13:08:31 2016 Active Sem Change: Blue A ----> Yellow A', u'Mon Apr 04 13:48:42 2016 Active Sem Change: Yellow A ----> Blue A', u'Tue Apr 05 08:13:02 2016 Active Sem Change: Blue A ----> Yellow A', u'Fri Apr 08 16:02:51 2016 Active Sem Change: Yellow A ----> Blue A', u'Fri Apr 08 18:24:29 2016 Active Sem Change: Blue A ----> Yellow A']\n",
      "rddparsed63\n",
      "[]\n"
     ]
    }
   ],
   "source": [
    "#Check numerical data in lines with 3 dashes '--->' or more\n",
    "\n",
    "#Numerical data on both sides\n",
    "rddparsed2 = (\n",
    "    rdd.filter(lambda line: '--->' in line)\n",
    "    .filter(lambda line: '---->' not in line)\n",
    "    .map(lambda line: re.sub(' +',' ',line))\n",
    "    .filter(lambda line: isdigit(line.split('--->')[0].rstrip().rsplit(' ',1)[1]))\n",
    "    .filter(lambda line: isdigit(line.split('--->')[1].lstrip().rsplit(' ',1)[0]))\n",
    "    .take(5)\n",
    ")\n",
    "print 'rddpasred2'; print rddparsed2\n",
    "\n",
    "#Numerical data on neither sides\n",
    "rddparsed3 = (\n",
    "    rdd.filter(lambda line: '--->' in line)\n",
    "    .filter(lambda line: '---->' not in line)\n",
    "    .map(lambda line: re.sub(' +',' ',line))\n",
    "    .filter(lambda line: not isdigit(line.split('--->')[0].rstrip().rsplit(' ',1)[1]))\n",
    "    .filter(lambda line: not isdigit(line.split('--->')[1].lstrip().rsplit(' ',1)[0]))\n",
    "    .take(5)\n",
    ")\n",
    "print 'rddpasred3'; print rddparsed3\n",
    "\n",
    "#Numerical data on From side only\n",
    "rddparsed4 = (\n",
    "    rdd.filter(lambda line: '--->' in line)\n",
    "    .filter(lambda line: '---->' not in line)\n",
    "    .map(lambda line: re.sub(' +',' ',line))\n",
    "    .filter(lambda line: isdigit(line.split('--->')[0].rstrip().rsplit(' ',1)[1]))\n",
    "    .filter(lambda line: not isdigit(line.split('--->')[1].lstrip().rsplit(' ',1)[0]))\n",
    "    .take(5)\n",
    ")\n",
    "print 'rddpasred4'; print rddparsed4\n",
    "\n",
    "\n",
    "#Numerical data on From side only, and doesn't have \"**ERROR** Valve Status = 123\"\n",
    "rddparsed42 = (\n",
    "    rdd.filter(lambda line: '--->' in line)\n",
    "    .filter(lambda line: '---->' not in line)\n",
    "    .map(lambda line: re.sub(' +',' ',line))\n",
    "    .filter(lambda line: isdigit(line.split('--->')[0].rstrip().rsplit(' ',1)[1]))\n",
    "    .filter(lambda line: not isdigit(line.split('--->')[1].lstrip().rsplit(' ',1)[0]))\n",
    "    .filter(lambda line: '**ERROR** Valve Status = 123 --->' not in line)\n",
    "    .take(5)\n",
    ")\n",
    "print 'rddpasred42'; print rddparsed42\n",
    "\n",
    "\n",
    "#Numerical data on From side only, and doesn't have \"**ERROR** Valve Status = 123\", or \"received a single valve command\"\n",
    "rddparsed43 = (\n",
    "    rdd.filter(lambda line: '--->' in line)\n",
    "    .filter(lambda line: '---->' not in line)\n",
    "    .map(lambda line: re.sub(' +',' ',line))\n",
    "    .filter(lambda line: isdigit(line.split('--->')[0].rstrip().rsplit(' ',1)[1]))\n",
    "    .filter(lambda line: not isdigit(line.split('--->')[1].lstrip().rsplit(' ',1)[0]))\n",
    "    .filter(lambda line: '**ERROR** Valve Status = 123 --->' not in line)\n",
    "    .filter(lambda line: 'received a single valve command' not in line)\n",
    "    .take(5)\n",
    ")\n",
    "print 'rddpasred43'; print rddparsed43\n",
    "\n",
    "\n",
    "#Numerical data on To side only, which doesn't exist\n",
    "# rddparsed5 = (\n",
    "#     rdd.filter(lambda line: '--->' in line)\n",
    "#     .filter(lambda line: '---->' not in line)\n",
    "#     .map(lambda line: re.sub(' +',' ',line))\n",
    "#     .filter(lambda line: not isdigit(line.split('--->')[0].rstrip().rsplit(' ',1)[1]))\n",
    "#     .filter(lambda line: isdigit(line.split('--->')[1].lstrip().rsplit(' ',1)[0]))\n",
    "#     .take(5)\n",
    "# )\n",
    "# print 'rddparsed5'; print rddparsed5\n",
    "\n",
    "#4 dashes\n",
    "rddparsed6 = (\n",
    "    rdd.filter(lambda line: '---->' in line)\n",
    "    .filter(lambda line: '----->' not in line)\n",
    "    .take(5)\n",
    ")\n",
    "print 'rddparsed6'; print rddparsed6\n",
    "\n",
    "#4 dashes, but not in a multi-valve command\n",
    "rddparsed62 = (\n",
    "    rdd.filter(lambda line: '---->' in line)\n",
    "    .filter(lambda line: '----->' not in line)\n",
    "    .filter(lambda line: '       ' not in line)\n",
    "    .take(5)\n",
    ")\n",
    "print 'rddparsed62'; print rddparsed62\n",
    "\n",
    "\n",
    "#4 dashes, but not in a multi-valve command, or has \"Active Sem Change\"\n",
    "rddparsed63 = (\n",
    "    rdd.filter(lambda line: '---->' in line)\n",
    "    .filter(lambda line: '----->' not in line)\n",
    "    .filter(lambda line: '       ' not in line)\n",
    "    .filter(lambda line: 'Active Sem Change' not in line)\n",
    "    .take(5)\n",
    ")\n",
    "print 'rddparsed63'; print rddparsed63\n",
    "\n",
    "\n",
    "\n",
    "#5 dashes, which doesn't exist\n",
    "# rddparsed7 = (\n",
    "#     rdd.filter(lambda line: '----->' in line)\n",
    "#     .filter(lambda line: '------>' not in line)\n",
    "#     .take(5)\n",
    "# )\n",
    "# print 'rddparsed7'; print rddparsed7\n"
   ]
  },
  {
   "cell_type": "markdown",
   "metadata": {},
   "source": [
    "#### 3.3. Parse analog data lines containing 3 dashes\n"
   ]
  },
  {
   "cell_type": "code",
   "execution_count": 4,
   "metadata": {
    "scrolled": true
   },
   "outputs": [],
   "source": [
    "#Parsing lines with 3 dashes '--->' AND numerical data on both ends of dashes\n",
    "\n",
    "rddparsed2 = (\n",
    "    rdd.filter(lambda line: '--->' in line)\n",
    "    .filter(lambda line: '---->' not in line)\n",
    "    .map(lambda line: re.sub(' +',' ',line))\n",
    "    .filter(lambda line: isdigit(line.split('--->')[0].rstrip().rsplit(' ',1)[1]))\n",
    "    .filter(lambda line: isdigit(line.split('--->')[1].lstrip().rsplit(' ',1)[0]))\n",
    "    .map(lambda line: (extractTimeStamp.findall(line)[0], extractTimeStamp.split(line)[1].lstrip()))\n",
    "    .map(lambda (timestamp, line): (str(re.sub(' +', ' ', re.sub(r'[\\W_]', ' ', line.split('--->')[0].rstrip().rsplit(' ',1)[0])).replace(' ','_')),\n",
    "                                    np.array([str2utc(timestamp),\n",
    "                                              float(line.split('--->')[0].rstrip().rsplit(' ',1)[1]),\n",
    "                                              float(line.split('--->')[1].lstrip().rsplit(' ',1)[0]),\n",
    "                                              line.split('--->')[1].lstrip().rsplit(' ',1)[1]])))\n",
    "    .reduceByKey(lambda accum, n: np.vstack((accum,n)))\n",
    "    .map(lambda (var, array): (var, pd.DataFrame(data=array, columns=['AcqTime','From','To','Unit'])))\n",
    "    .collect()\n",
    ")\n",
    "\n",
    "for (var, df) in rddparsed2:\n",
    "    df.to_csv(os.path.join('ensco5006',var+'.csv'), index=False)\n",
    "    "
   ]
  },
  {
   "cell_type": "markdown",
   "metadata": {},
   "source": [
    "#### 3.4 Parse command lines containing 3 dashes"
   ]
  },
  {
   "cell_type": "markdown",
   "metadata": {},
   "source": [
    "##### find out states that are longer than 1 words"
   ]
  },
  {
   "cell_type": "code",
   "execution_count": 7,
   "metadata": {},
   "outputs": [
    {
     "name": "stdout",
     "output_type": "stream",
     "text": [
      "defaultdict(<type 'int'>, {u'VENT Sol 1 Lock Sol 2 Lock': 12, u'HP CLOSE': 71, u'LATCH Sol 1 Lock Sol 2 Lock': 4, u'OPEN Sol 1 Lock Sol 2 Lock': 10, u'Both Diags On': 764, u'VENT Lock': 8, u'CLOSE Break Lock': 1, u'**ERROR** Valve Status = 123': 1857, u'VENT Break': 4})\n"
     ]
    }
   ],
   "source": [
    "rddparsed3 = (\n",
    "    rdd.filter(lambda line: '--->' in line)\n",
    "    .filter(lambda line: '---->' not in line)\n",
    "    .map(lambda line: re.sub(' +',' ',line))\n",
    "    .filter(lambda line: not isdigit(line.split('--->')[0].rstrip().rsplit(' ',1)[1]))\n",
    "    .filter(lambda line: not isdigit(line.split('--->')[1].lstrip().rsplit(' ',1)[0]))\n",
    "    .map(lambda line: extractTimeStamp.split(line)[1].lstrip())\n",
    "    .map(lambda line: line.split('--->')[1].lstrip())\n",
    "    .filter(lambda line: len(line.rsplit(' ',1))>1)\n",
    "    .countByValue()\n",
    "    )\n",
    "\n",
    "print rddparsed3"
   ]
  },
  {
   "cell_type": "markdown",
   "metadata": {},
   "source": [
    "##### find out states that are exactly 1 word"
   ]
  },
  {
   "cell_type": "code",
   "execution_count": 8,
   "metadata": {},
   "outputs": [
    {
     "name": "stdout",
     "output_type": "stream",
     "text": [
      "defaultdict(<type 'int'>, {u'': 8, u'VENT': 5056, u'EXTEND': 206, u'DISARM': 763, u'YELLOW': 11, u'RETRACT': 141, u'DECREASE': 4084, u'cameron': 36, u'LATCH': 841, u'OPEN': 48512, u'BLOCK': 5855, u'DUMP': 322, u'ENERGIZE': 411, u'INCREASE': 4182, u'Drilling': 15, u'LOCK': 6306, u'CAMERON': 1, u'CLOSE': 46709, u'None': 2, u'UNLATCH': 1235, u'Fault': 17740, u'ISOLATE': 654, u'PRESSURE': 136, u'UNLOCK': 358, u'drilling': 39, u'RELEASE': 150, u'HOLD': 131, u'BLUE': 6, u'DE-ENERG': 322, u'CHARGE': 149, u'ARM': 350, u'DRILLING': 9})\n"
     ]
    }
   ],
   "source": [
    "rddparsed3 = (\n",
    "    rdd.filter(lambda line: '--->' in line)\n",
    "    .filter(lambda line: '---->' not in line)\n",
    "    .map(lambda line: re.sub(' +',' ',line))\n",
    "    .filter(lambda line: not isdigit(line.split('--->')[0].rstrip().rsplit(' ',1)[1]))\n",
    "    .filter(lambda line: not isdigit(line.split('--->')[1].lstrip().rsplit(' ',1)[0]))\n",
    "    .map(lambda line: extractTimeStamp.split(line)[1].lstrip())\n",
    "    .map(lambda line: line.split('--->')[1].lstrip())\n",
    "    .filter(lambda line: len(line.rsplit(' ',1))==1)\n",
    "    .countByValue()\n",
    "    )\n",
    "\n",
    "print rddparsed3"
   ]
  },
  {
   "cell_type": "markdown",
   "metadata": {},
   "source": [
    "##### knowing what possible states there are, parse the commands"
   ]
  },
  {
   "cell_type": "code",
   "execution_count": 15,
   "metadata": {},
   "outputs": [
    {
     "name": "stdout",
     "output_type": "stream",
     "text": [
      "      AcqTime                        Command    From      To\n",
      "0  1459566217    HPU_MUD_GAS_SEPERATOR_VALVE   CLOSE   Fault\n",
      "1  1459574240     HPU_TRIP_TANK_RETURN_VALVE    OPEN   Fault\n",
      "2  1459579416    HPU_TRIP_TANK_FILL-IN_VALVE   CLOSE   Fault\n",
      "3  1459580088    HPU_RESET_RING_TO_DIV_HSING    LOCK   Fault\n",
      "4  1459586533     HPU_DIVERTER_LOCKDOWN_DOGS  UNLOCK   Fault\n",
      "5  1459586846  HPU_STARBOARD_OVERBOARD_VALVE    OPEN   Fault\n",
      "6  1459590838       HPU_PORT_OVERBOARD_VALVE   CLOSE   Fault\n",
      "7  1459591342       HPU_PORT_OVERBOARD_VALVE   Fault   CLOSE\n",
      "8  1459591345  HPU_STARBOARD_OVERBOARD_VALVE   Fault    OPEN\n",
      "9  1459591345     HPU_DIVERTER_LOCKDOWN_DOGS   Fault  UNLOCK\n",
      "98041\n",
      "        AcqTime  Destination        Origin                   Equipment  \\\n",
      "0  1459793034.0  Yellow B CC  BOP Test Box   YELLOW LMRP STINGER SEALS   \n",
      "1  1459793036.0  Yellow A CC  BOP Test Box   YELLOW LMRP STINGER SEALS   \n",
      "2  1459793049.0  Yellow A CC  BOP Test Box         YELLOW LMRP STINGER   \n",
      "3  1459793049.0  Yellow B CC  BOP Test Box         YELLOW LMRP STINGER   \n",
      "4  1459793057.0  Yellow A CC  BOP Test Box   YELLOW LMRP STINGER SEALS   \n",
      "5  1459793057.0  Yellow B CC  BOP Test Box   YELLOW LMRP STINGER SEALS   \n",
      "6  1459793096.0  Yellow A CC  BOP Test Box  YELLOW STACK STINGER SEALS   \n",
      "7  1459793096.0  Yellow B CC  BOP Test Box  YELLOW STACK STINGER SEALS   \n",
      "8  1459793104.0  Yellow A CC  BOP Test Box        YELLOW STACK STINGER   \n",
      "9  1459793104.0  Yellow B CC  BOP Test Box        YELLOW STACK STINGER   \n",
      "\n",
      "         To  \n",
      "0  DE-ENERG  \n",
      "1  DE-ENERG  \n",
      "2    EXTEND  \n",
      "3    EXTEND  \n",
      "4  ENERGIZE  \n",
      "5  ENERGIZE  \n",
      "6  DE-ENERG  \n",
      "7  DE-ENERG  \n",
      "8    EXTEND  \n",
      "9    EXTEND  \n",
      "54420\n"
     ]
    }
   ],
   "source": [
    "def com_parse(lineleft):\n",
    "    com_list = ['VENT Sol 1 Lock Sol 2 Lock', 'HP CLOSE', 'LATCH Sol 1 Lock Sol 2 Lock', \n",
    "            'OPEN Sol 1 Lock Sol 2 Lock', 'Both Diags On', 'VENT Lock', \n",
    "            'CLOSE Break Lock', '**ERROR** Valve Status = 123', 'VENT Break',\n",
    "            'VENT', 'EXTEND', 'DISARM', 'YELLOW', 'RETRACT', 'DECREASE', 'cameron', 'LATCH', \n",
    "                'OPEN', 'BLOCK', 'DUMP', 'ENERGIZE', 'INCREASE', 'Drilling', 'LOCK',\n",
    "                'CAMERON', 'CLOSE', 'None', 'UNLATCH', 'Fault', 'ISOLATE', 'PRESSURE', \n",
    "                'UNLOCK', 'drilling', 'RELEASE', 'HOLD', 'BLUE', 'DE-ENERG', 'CHARGE', 'ARM', 'DRILLING'\n",
    "           ]\n",
    "    if ':' in lineleft:\n",
    "        com_out = lineleft.split(':')[0].rstrip()\n",
    "        from_out = lineleft.split(':')[1].lstrip()\n",
    "    else:\n",
    "        lineleft = re.sub(' +', ' ', lineleft)\n",
    "        if lineleft.endswith(tuple(com_list)):\n",
    "            #some states could have the same ending characters, e.g. 'VENT Lock' and 'LOCK'\n",
    "            #this if-else logic below is to make sure that the LONGEST state is used to parse a line\n",
    "            lineend = [k for k in com_list if lineleft.endswith(k)]\n",
    "            if len(lineend) == 1:\n",
    "                from_out = lineend[0]\n",
    "                com_out = lineleft[:-len(from_out)].rstrip()\n",
    "            else:\n",
    "                lineend_flag = [k.endswith(tuple([n for n in lineend if n != k])) for k in lineend]\n",
    "                if sum(lineend_flag)==1:\n",
    "                    from_out = [v for (k,v) in enumerate(lineend) if lineend_flag[k]==1][0]\n",
    "                    com_out = lineleft.split(from_out)[0].rstrip()\n",
    "                else:\n",
    "                    com_out = lineleft\n",
    "                    from_out = 'ParsingError'\n",
    "        else:\n",
    "            com_out = lineleft\n",
    "            from_out = 'ParsingError'\n",
    "            \n",
    "    return com_out, from_out\n",
    "\n",
    "\n",
    "\n",
    "rddparsed4 = (\n",
    "    rdd.filter(lambda line: '--->' in line)\n",
    "    .filter(lambda line: '---->' not in line)\n",
    "    .filter(lambda line: 'received a single valve command' not in line)\n",
    "    .filter(lambda line: 'was sent a single valve command from' not in line)\n",
    "    .map(lambda line: re.sub(' +', ' ', line))\n",
    "    .filter(lambda line: not isdigit(line.split('--->')[1].lstrip().rsplit(' ',1)[0]))\n",
    "    .map(lambda line: (extractTimeStamp.findall(line)[0], extractTimeStamp.split(line)[1].lstrip()))\n",
    "    .map(lambda (timestamp, line): (str2utc(timestamp), line.split('--->')[0].rstrip(), line.split('--->')[1].lstrip()))\n",
    "    .map(lambda (acqtime, lineleft, lineright): (acqtime, com_parse(lineleft)[0], com_parse(lineleft)[1], lineright))\n",
    "#     .filter(lambda (acqtime, com_out, from_out, to_out): from_out == 'ParsingError')\n",
    "    \n",
    "#     .map(lambda (acqtime, com_out, from_out, to_out): (com_out.replace(' ','_'), [acqtime, from_out, to_out]))\n",
    "#     .reduceByKey(lambda accum, n: np.vstack((accum,n)))\n",
    "#     .map(lambda (var, array): (var, pd.DataFrame(data=array, columns=['AcqTime','From','To'])))\n",
    "#     .takeSample(withReplacement=False, num=5)\n",
    "    \n",
    "    .map(lambda (acqtime, com_out, from_out, to_out): ([acqtime, com_out.replace(' ','_'), from_out, to_out]))\n",
    "    .collect()\n",
    ")\n",
    "df4 = pd.DataFrame(data=rddparsed4, columns=['AcqTime','Command','From','To'])\n",
    "print df4.head(10)\n",
    "print len(df4)\n",
    "df4.to_csv(os.path.join('ensco5006','commands.csv'), index=False)\n",
    "\n"
   ]
  },
  {
   "cell_type": "markdown",
   "metadata": {},
   "source": [
    "##### Parse the lines that uses \"received\" or \"sent\" in a line, which indicates issuing of the command"
   ]
  },
  {
   "cell_type": "code",
   "execution_count": null,
   "metadata": {
    "collapsed": true
   },
   "outputs": [],
   "source": [
    "# Examples:\n",
    "# 'Mon Apr 04 15:45:33 2016 Yellow A CC received a single valve command from BOP Test Box: RAM 1 ---> CLOSE'\n",
    "# 'Sun Apr 10 07:03:09 2016  Hpu was sent a single valve command from  TCP B: TRIP TANK DISCHARGE VALVE ---> CLOSE'\n",
    "rddparsed42 = (\n",
    "    rdd.filter(lambda line: '--->' in line)\n",
    "    .filter(lambda line: '---->' not in line)\n",
    "    .filter(lambda line: 'received a single valve command' in line)\n",
    "    \n",
    "    .map(lambda line: re.sub(' +', ' ', line))\n",
    "    .filter(lambda line: not isdigit(line.split('--->')[1].lstrip().rsplit(' ',1)[0]))\n",
    "    .map(lambda line: (extractTimeStamp.findall(line)[0], extractTimeStamp.split(line)[1].lstrip()))\n",
    "    .map(lambda (timestamp, line): (str2utc(timestamp), line.split('--->')[0].rstrip(), line.split('--->')[1].lstrip()))\n",
    "    .map(lambda (acqtime, lineleft, lineright): [acqtime, \n",
    "                                                 lineleft.split('received')[0].rstrip(), \n",
    "                                                 lineleft.split('from')[1].lstrip().split(':')[0],\n",
    "                                                 lineleft.split(':')[1].lstrip(), \n",
    "                                                 lineright])\n",
    "     .reduce(lambda x, y: np.vstack((x,y)))\n",
    "    )\n",
    "df42 = pd.DataFrame(data=rddparsed42, columns=['AcqTime','Destination','Origin', 'Equipment', 'To'])\n",
    "\n",
    "rddparsed43 = (\n",
    "    rdd.filter(lambda line: '--->' in line)\n",
    "    .filter(lambda line: '---->' not in line)\n",
    "    .filter(lambda line: 'was sent a single valve command from' in line)\n",
    "    \n",
    "    .map(lambda line: re.sub(' +', ' ', line))\n",
    "    .filter(lambda line: not isdigit(line.split('--->')[1].lstrip().rsplit(' ',1)[0]))\n",
    "    .map(lambda line: (extractTimeStamp.findall(line)[0], extractTimeStamp.split(line)[1].lstrip()))\n",
    "    .map(lambda (timestamp, line): (str2utc(timestamp), line.split('--->')[0].rstrip(), line.split('--->')[1].lstrip()))\n",
    "    .map(lambda (acqtime, lineleft, lineright): [acqtime, \n",
    "                                                 lineleft.split('was sent')[0].rstrip(), \n",
    "                                                 lineleft.split('from')[1].lstrip().split(':')[0],\n",
    "                                                 lineleft.split(':')[1].lstrip(), \n",
    "                                                 lineright])\n",
    "     .reduce(lambda x, y: np.vstack((x,y)))\n",
    "    )\n",
    "df43 = pd.DataFrame(data=rddparsed43, columns=['AcqTime','Destination','Origin', 'Equipment', 'To'])\n",
    "\n",
    "df44 = pd.concat([df42, df43])\n",
    "\n",
    "print df44.head(10)\n",
    "print len(df44)\n",
    "df44.to_csv(os.path.join('ensco5006','command_ack.csv'), index=False)\n"
   ]
  },
  {
   "cell_type": "markdown",
   "metadata": {},
   "source": [
    "#### 3.5 Multiple valve commands, which starts with a line that has a timestamp and appends lines without a timestamp"
   ]
  },
  {
   "cell_type": "code",
   "execution_count": 51,
   "metadata": {
    "scrolled": true
   },
   "outputs": [
    {
     "name": "stdout",
     "output_type": "stream",
     "text": [
      "rddmvc\n"
     ]
    }
   ],
   "source": [
    "def mvc_lines(data):\n",
    "    mvc_start = [(k,line) for (k,line) in enumerate(data) if 'Multiple valve command from' in line]\n",
    "    \n",
    "    mvc = []\n",
    "    for (k,line) in mvc_start:\n",
    "#         'Mon Apr 04 13:03:53 2016 Multiple valve command from  BOP Test Box to Yellow A '\n",
    "#         'Mon Apr 04 13:04:52 2016 Multiple valve command from  BOP Test Box to Yellow A '\n",
    "        acqtime = str2utc(extractTimeStamp.findall(line)[0])\n",
    "        lineleft = extractTimeStamp.split(line)[1].lstrip()\n",
    "        destination = lineleft.split('to')[1].lstrip().rstrip()\n",
    "        origin = lineleft.split('from')[1].split('to')[0].lstrip().rstrip()\n",
    "        \n",
    "        j = k+1\n",
    "        mvc_command = []\n",
    "        while j>k:\n",
    "            if len(extractTimeStamp.findall(data[j]))==0:\n",
    "                command = data[j].lstrip()\n",
    "                mvc_command += [command]\n",
    "                j+=1\n",
    "            else:\n",
    "                break\n",
    "        if len(mvc)==0:\n",
    "            mvc = np.array([acqtime, destination, origin, mvc_command], dtype=object)\n",
    "        else:\n",
    "            mvc = np.vstack((mvc, np.array([acqtime, destination, origin, mvc_command], dtype=object)))\n",
    "        \n",
    "    return mvc\n",
    "\n",
    "\n",
    "rddwhole = sc.wholeTextFiles('ensco5006/*.log')\n",
    "rddmvc = (rddwhole\n",
    "          .filter(lambda (fn, data): 'Multiple valve command from' in data)\n",
    "          .map(lambda (fn, data): (fn, data.split('\\r\\n')))\n",
    "          .map(lambda (fn, data): mvc_lines(data))\n",
    "          .reduce(lambda x, y: np.vstack((x,y)))\n",
    "          )\n",
    "print 'rddmvc'\n",
    "dfmvc = pd.DataFrame(data=rddmvc, columns=['AcqTime','Destination','Origin', 'MVC'])\n",
    "dfmvc.to_csv(os.path.join('ensco5006','mvc.csv'), index=False)\n",
    "\n",
    "# rddmvc1 = (rddwhole\n",
    "#           .filter(lambda (fn, data): 'Multiple valve command from' in data)\n",
    "#           .map(lambda (fn, data): (fn, data.split('\\r\\n')))\n",
    "#           .map(lambda (fn, data): (fn, mvc_lines(data)))\n",
    "#           .filter(lambda (fn, lines): '      Lock or Unlock Commands in this Multiple Valve Command.' in lines)\n",
    "#           .filter(lambda (fn, lines): '      No Valve Commands in this Multiple Valve Command.' in lines)\n",
    "#           .map(lambda (fn, lines): lines)\n",
    "#           .collect()\n",
    "#          )\n",
    "# print'rddmvc1'\n",
    "# print len(rddmvc1)\n"
   ]
  },
  {
   "cell_type": "markdown",
   "metadata": {},
   "source": [
    "#### 3.6 Parse lines that indicate when active SEM is changed"
   ]
  },
  {
   "cell_type": "code",
   "execution_count": 56,
   "metadata": {},
   "outputs": [],
   "source": [
    "rddparsed63 = (\n",
    "    rdd.filter(lambda line: '---->' in line)\n",
    "    .filter(lambda line: '----->' not in line)\n",
    "    .filter(lambda line: '       ' not in line)\n",
    "    .map(lambda line: re.sub(' +', ' ', line))\n",
    "    .map(lambda line: (extractTimeStamp.findall(line)[0], extractTimeStamp.split(line)[1].lstrip()))\n",
    "    .map(lambda (timestamp, line): (str2utc(timestamp), line.split('---->')[0].rstrip(), line.split('--->')[1].lstrip()))\n",
    "    .map(lambda (acqtime, lineleft, lineright): (acqtime, lineleft.split(':')[1].lstrip(), lineright))\n",
    "    .collect()\n",
    ")\n",
    "\n",
    "df_semchange = pd.DataFrame(data=rddparsed63, columns=['AcqTime', 'From', 'To'])\n",
    "df_semchange.to_csv(os.path.join('ensco5006','active_sem_change.csv'), index=False)\n"
   ]
  },
  {
   "cell_type": "markdown",
   "metadata": {},
   "source": [
    "### 4. Check if all lines are parsed or at least \"covered\" by a regex"
   ]
  },
  {
   "cell_type": "code",
   "execution_count": null,
   "metadata": {
    "scrolled": true
   },
   "outputs": [],
   "source": [
    "rdd = sc.textFile('ensco5006/*.log',100)\n",
    "rdd.persist()\n",
    "\n",
    "rddtotal = rdd.count()\n",
    "\n",
    "\n",
    "def mvc_lines_new(data):\n",
    "    mvc_start = [(k,line) for (k,line) in enumerate(data) if 'Multiple valve command from' in line]\n",
    "    \n",
    "    mvc = []\n",
    "    for (k,line) in mvc_start:\n",
    "        mvc += [line]\n",
    "        j = k+1\n",
    "        while j>k:\n",
    "            if len(extractTimeStamp.findall(data[j]))==0:\n",
    "                command = data[j].lstrip()\n",
    "                mvc += [command]\n",
    "                j+=1\n",
    "            else:\n",
    "                break\n",
    "    return mvc\n",
    "\n",
    "\n",
    "rddparsed1_count = (\n",
    "    rdd.filter(lambda line: '-->' in line)\n",
    "    .filter(lambda line: '--->' not in line)\n",
    "    .count()\n",
    "    )\n",
    "\n",
    "rddparsed2_count = (\n",
    "    rdd.filter(lambda line: '--->' in line)\n",
    "    .filter(lambda line: '---->' not in line)\n",
    "    .map(lambda line: re.sub(' +',' ',line))\n",
    "    .filter(lambda line: isdigit(line.split('--->')[0].rstrip().rsplit(' ',1)[1]))\n",
    "    .filter(lambda line: isdigit(line.split('--->')[1].lstrip().rsplit(' ',1)[0]))\n",
    "    .count())\n",
    "\n",
    "rddparsed4_count = (\n",
    "    rdd.filter(lambda line: '--->' in line)\n",
    "    .filter(lambda line: '---->' not in line)\n",
    "    .map(lambda line: re.sub(' +', ' ', line))\n",
    "    .filter(lambda line: not isdigit(line.split('--->')[1].lstrip().rsplit(' ',1)[0]))\n",
    "    .count())\n",
    "    \n",
    "    \n",
    "rddparsed63_count = (\n",
    "    rdd.filter(lambda line: '---->' in line)\n",
    "    .filter(lambda line: '----->' not in line)\n",
    "    .filter(lambda line: '       ' not in line)\n",
    "    .count())\n",
    "    \n",
    "\n",
    "rddparsed1_count1 = (rdd.filter(lambda line: '>' in line)\n",
    "                      .filter(lambda line: '->' not in line)\n",
    "                     .count())\n",
    "\n",
    "rddparsed1_count2 = (rdd.filter(lambda line: '=' in line)\n",
    "                     .filter(lambda line: '<' not in line)\n",
    "                     .filter(lambda line: '>' not in line)\n",
    "                     .count()\n",
    "                     )\n",
    "\n",
    "rddparsed1_count3 = (rdd.filter(lambda line: '=' not in line)\n",
    "                     .filter(lambda line: '>' not in line)\n",
    "                     .filter(lambda line: 'Multiple valve command from' not in line)\n",
    "                  .filter(lambda line: '      ' not in line)\n",
    "                     .count()\n",
    "                     )\n",
    "\n",
    "rddparsed1_count4 = rdd.filter(lambda line: '<' in line).count()\n",
    "\n",
    "mvc_count = (sc.wholeTextFiles('ensco5006/*.log')\n",
    "             .filter(lambda (fn, data): 'Multiple valve command from' in data)\n",
    "          .map(lambda (fn, data): (fn, data.split('\\r\\n')))\n",
    "          .map(lambda (fn, data): (fn, mvc_lines_new(data)))\n",
    "          .map(lambda (fn, lines): (fn, len(lines)))\n",
    "          .map(lambda (fn, no_lines): no_lines)\n",
    "         .reduce(lambda x, y: x+y))\n",
    "\n",
    "\n",
    "parsedtotal = rddparsed1_count+rddparsed2_count+mvc_count+rddparsed4_count+rddparsed63_count\n",
    "parsedtotal = (rddparsed1_count+rddparsed2_count+mvc_count+rddparsed4_count+rddparsed63_count+\n",
    "               rddparsed1_count1+rddparsed1_count2+rddparsed1_count3+rddparsed1_count4)\n",
    "\n",
    "print \"{0} out of {1} parsed\".format(parsedtotal, rddtotal)\n",
    "print \"{0:.5f}% parsed\".format(parsedtotal/float(rddtotal)*100)\n"
   ]
  },
  {
   "cell_type": "code",
   "execution_count": null,
   "metadata": {},
   "outputs": [],
   "source": [
    "parsedtotal = rddparsed1_count+rddparsed2_count+mvc_count+rddparsed4_count+rddparsed63_count\n",
    "print parsedtotal\n",
    "print rddtotal"
   ]
  }
 ],
 "metadata": {
  "kernelspec": {
   "display_name": "Python 2",
   "language": "python",
   "name": "python2"
  },
  "language_info": {
   "codemirror_mode": {
    "name": "ipython",
    "version": 2
   },
   "file_extension": ".py",
   "mimetype": "text/x-python",
   "name": "python",
   "nbconvert_exporter": "python",
   "pygments_lexer": "ipython2",
   "version": "2.7.13"
  }
 },
 "nbformat": 4,
 "nbformat_minor": 1
}
