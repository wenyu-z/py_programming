{
 "cells": [
  {
   "cell_type": "markdown",
   "metadata": {},
   "source": [
    "This script is a practice of feature engineering using sklearn and pandas, converting\n",
    "raw data in text to numerical features for next step. A few methods are experimented:\n",
    "    1. sklearn's DictVectorizer, converts list of key-value mappings to an array\n",
    "    2. pandas' get_dummies, converts raw data to features including dummy variables\n",
    "    3. sklearn.preprocessing.OneHotEncoder, converts array to features"
   ]
  },
  {
   "cell_type": "code",
   "execution_count": 1,
   "metadata": {
    "collapsed": true
   },
   "outputs": [],
   "source": [
    "from IPython.display import display"
   ]
  },
  {
   "cell_type": "markdown",
   "metadata": {},
   "source": [
    "### 1. DictVectorizer\n",
    "#### sklearn.feature_extraction.DictVectorizer"
   ]
  },
  {
   "cell_type": "code",
   "execution_count": 2,
   "metadata": {},
   "outputs": [
    {
     "data": {
      "text/html": [
       "<div>\n",
       "<table border=\"1\" class=\"dataframe\">\n",
       "  <thead>\n",
       "    <tr style=\"text-align: right;\">\n",
       "      <th></th>\n",
       "      <th>Age</th>\n",
       "      <th>Nationality=China</th>\n",
       "      <th>Nationality=Indonesia</th>\n",
       "      <th>Nationality=US</th>\n",
       "      <th>Nationality=Unknown</th>\n",
       "      <th>Sex=Female</th>\n",
       "      <th>Sex=Male</th>\n",
       "      <th>Wear Glasses</th>\n",
       "    </tr>\n",
       "  </thead>\n",
       "  <tbody>\n",
       "    <tr>\n",
       "      <th>0</th>\n",
       "      <td>32.0</td>\n",
       "      <td>0.0</td>\n",
       "      <td>1.0</td>\n",
       "      <td>0.0</td>\n",
       "      <td>0.0</td>\n",
       "      <td>0.0</td>\n",
       "      <td>1.0</td>\n",
       "      <td>0.0</td>\n",
       "    </tr>\n",
       "    <tr>\n",
       "      <th>1</th>\n",
       "      <td>31.0</td>\n",
       "      <td>1.0</td>\n",
       "      <td>0.0</td>\n",
       "      <td>0.0</td>\n",
       "      <td>0.0</td>\n",
       "      <td>0.0</td>\n",
       "      <td>1.0</td>\n",
       "      <td>1.0</td>\n",
       "    </tr>\n",
       "    <tr>\n",
       "      <th>2</th>\n",
       "      <td>32.0</td>\n",
       "      <td>0.0</td>\n",
       "      <td>0.0</td>\n",
       "      <td>1.0</td>\n",
       "      <td>0.0</td>\n",
       "      <td>1.0</td>\n",
       "      <td>0.0</td>\n",
       "      <td>1.0</td>\n",
       "    </tr>\n",
       "    <tr>\n",
       "      <th>3</th>\n",
       "      <td>34.0</td>\n",
       "      <td>0.0</td>\n",
       "      <td>0.0</td>\n",
       "      <td>0.0</td>\n",
       "      <td>1.0</td>\n",
       "      <td>1.0</td>\n",
       "      <td>0.0</td>\n",
       "      <td>1.0</td>\n",
       "    </tr>\n",
       "  </tbody>\n",
       "</table>\n",
       "</div>"
      ],
      "text/plain": [
       "    Age  Nationality=China  Nationality=Indonesia  Nationality=US  \\\n",
       "0  32.0                0.0                    1.0             0.0   \n",
       "1  31.0                1.0                    0.0             0.0   \n",
       "2  32.0                0.0                    0.0             1.0   \n",
       "3  34.0                0.0                    0.0             0.0   \n",
       "\n",
       "   Nationality=Unknown  Sex=Female  Sex=Male  Wear Glasses  \n",
       "0                  0.0         0.0       1.0           0.0  \n",
       "1                  0.0         0.0       1.0           1.0  \n",
       "2                  0.0         1.0       0.0           1.0  \n",
       "3                  1.0         1.0       0.0           1.0  "
      ]
     },
     "metadata": {},
     "output_type": "display_data"
    }
   ],
   "source": [
    "from sklearn.feature_extraction import DictVectorizer\n",
    "import pandas as pd\n",
    "\n",
    "# input is a list of dictionaries, where each dict is a mapping of (k,v) where\n",
    "# k is the feature name, v is the raw value\n",
    "measurements = [\n",
    "                {'Sex': 'Male', 'Nationality':'Indonesia', 'Wear Glasses':False, 'Age': 32},\n",
    "                {'Sex': 'Male', 'Nationality':'China', 'Wear Glasses':True, 'Age': 31},\n",
    "                {'Sex': 'Female', 'Nationality':'US', 'Wear Glasses':True, 'Age': 32},\n",
    "                {'Sex': 'Female', 'Nationality':'Unknown', 'Wear Glasses':True, 'Age': 34},\n",
    "                ]\n",
    "\n",
    "# DictVectorizer defines the method to convert to a sparse matrix\n",
    "vec = DictVectorizer(sparse=True)\n",
    "# the fit_transform method converts list of dictionary to the matrix\n",
    "data_sparse = vec.fit_transform(measurements)\n",
    "# converts sparse matrix to an array\n",
    "data = data_sparse.toarray()\n",
    "\n",
    "# Code below denies conversion to a sparse matrix, rather it directly converts to a matrix\n",
    "vec = DictVectorizer(sparse=False)\n",
    "data = vec.fit_transform(measurements)\n",
    "\n",
    "# generate dataframe. vec.get_feature_names gives the feature names\n",
    "df1 = pd.DataFrame(data = data, columns = vec.get_feature_names())\n",
    "\n",
    "display(df1)\n"
   ]
  },
  {
   "cell_type": "markdown",
   "metadata": {},
   "source": [
    "### 2. get_dummies\n",
    "#### pandas.get_dummies"
   ]
  },
  {
   "cell_type": "code",
   "execution_count": 3,
   "metadata": {},
   "outputs": [
    {
     "name": "stdout",
     "output_type": "stream",
     "text": [
      "could not convert string to float: Unkown\n"
     ]
    }
   ],
   "source": [
    "import pandas as pd\n",
    "from sklearn.ensemble import RandomForestClassifier as rf_c\n",
    "\n",
    "# input is a dataframe already\n",
    "df = pd.DataFrame({'Sex': ['Male', 'Male', 'Female', 'Female'],\n",
    "                   'Nationality': ['Indonesia', 'China', 'US', 'Unkown'],\n",
    "                    'Wear Glasses': [False, True, True, True],\n",
    "                    'Age': [32, 31, 32, 34]})\n",
    "\n",
    "# a random forest classifier is used to test if the algorithm takes raw data as input\n",
    "clf = rf_c(n_estimators=5)\n",
    "\n",
    "features = ['Sex', 'Nationality', 'Age']\n",
    "target = ['Wear Glasses']\n",
    "\n",
    "X = df[features].values\n",
    "Y = df[target].values\n",
    "\n",
    "try:\n",
    "    clf.fit(X,Y)\n",
    "except Exception as e:\n",
    "    print e\n",
    "\n",
    "# per error below, it does not take raw data"
   ]
  },
  {
   "cell_type": "code",
   "execution_count": 4,
   "metadata": {
    "scrolled": true
   },
   "outputs": [
    {
     "data": {
      "text/html": [
       "<div>\n",
       "<table border=\"1\" class=\"dataframe\">\n",
       "  <thead>\n",
       "    <tr style=\"text-align: right;\">\n",
       "      <th></th>\n",
       "      <th>Age</th>\n",
       "      <th>Wear Glasses</th>\n",
       "      <th>Nationality_China</th>\n",
       "      <th>Nationality_Indonesia</th>\n",
       "      <th>Nationality_US</th>\n",
       "      <th>Nationality_Unkown</th>\n",
       "      <th>Sex_Female</th>\n",
       "      <th>Sex_Male</th>\n",
       "    </tr>\n",
       "  </thead>\n",
       "  <tbody>\n",
       "    <tr>\n",
       "      <th>0</th>\n",
       "      <td>32</td>\n",
       "      <td>False</td>\n",
       "      <td>0.0</td>\n",
       "      <td>1.0</td>\n",
       "      <td>0.0</td>\n",
       "      <td>0.0</td>\n",
       "      <td>0.0</td>\n",
       "      <td>1.0</td>\n",
       "    </tr>\n",
       "    <tr>\n",
       "      <th>1</th>\n",
       "      <td>31</td>\n",
       "      <td>True</td>\n",
       "      <td>1.0</td>\n",
       "      <td>0.0</td>\n",
       "      <td>0.0</td>\n",
       "      <td>0.0</td>\n",
       "      <td>0.0</td>\n",
       "      <td>1.0</td>\n",
       "    </tr>\n",
       "    <tr>\n",
       "      <th>2</th>\n",
       "      <td>32</td>\n",
       "      <td>True</td>\n",
       "      <td>0.0</td>\n",
       "      <td>0.0</td>\n",
       "      <td>1.0</td>\n",
       "      <td>0.0</td>\n",
       "      <td>1.0</td>\n",
       "      <td>0.0</td>\n",
       "    </tr>\n",
       "    <tr>\n",
       "      <th>3</th>\n",
       "      <td>34</td>\n",
       "      <td>True</td>\n",
       "      <td>0.0</td>\n",
       "      <td>0.0</td>\n",
       "      <td>0.0</td>\n",
       "      <td>1.0</td>\n",
       "      <td>1.0</td>\n",
       "      <td>0.0</td>\n",
       "    </tr>\n",
       "  </tbody>\n",
       "</table>\n",
       "</div>"
      ],
      "text/plain": [
       "   Age Wear Glasses  Nationality_China  Nationality_Indonesia  Nationality_US  \\\n",
       "0   32        False                0.0                    1.0             0.0   \n",
       "1   31         True                1.0                    0.0             0.0   \n",
       "2   32         True                0.0                    0.0             1.0   \n",
       "3   34         True                0.0                    0.0             0.0   \n",
       "\n",
       "   Nationality_Unkown  Sex_Female  Sex_Male  \n",
       "0                 0.0         0.0       1.0  \n",
       "1                 0.0         0.0       1.0  \n",
       "2                 0.0         1.0       0.0  \n",
       "3                 1.0         1.0       0.0  "
      ]
     },
     "metadata": {},
     "output_type": "display_data"
    },
    {
     "data": {
      "text/plain": [
       "RandomForestClassifier(bootstrap=True, class_weight=None, criterion='gini',\n",
       "            max_depth=None, max_features='auto', max_leaf_nodes=None,\n",
       "            min_impurity_split=1e-07, min_samples_leaf=1,\n",
       "            min_samples_split=2, min_weight_fraction_leaf=0.0,\n",
       "            n_estimators=5, n_jobs=1, oob_score=False, random_state=None,\n",
       "            verbose=0, warm_start=False)"
      ]
     },
     "execution_count": 4,
     "metadata": {},
     "output_type": "execute_result"
    }
   ],
   "source": [
    "# get_dummies method directly takes the dataframe in\n",
    "df_new = pd.get_dummies(df)\n",
    "# display shows the new dataframe, identicial to method 1 with DictVectorizer\n",
    "display(df_new)\n",
    "\n",
    "# Random forest classifier was able to run\n",
    "features_new = [k for k in df_new.columns if k != 'Wear Glasses']\n",
    "X_new = df_new[features_new].values\n",
    "Y_new = df[target].values.reshape(-1,)\n",
    "\n",
    "clf.fit(X_new, Y_new)"
   ]
  },
  {
   "cell_type": "markdown",
   "metadata": {},
   "source": [
    "#### Be cautious using dummy variables in regression (i.e. dummy variable trap). Drop one variable in each category, or remove intercept when fitting a regression function.\n",
    "#### Reference here (http://www.algosome.com/articles/dummy-variable-trap-regression.html)"
   ]
  },
  {
   "cell_type": "markdown",
   "metadata": {},
   "source": [
    "### 3. OneHotEncoder\n",
    "#### sklearn.preprocessing.OneHotEncoder"
   ]
  },
  {
   "cell_type": "code",
   "execution_count": 5,
   "metadata": {},
   "outputs": [
    {
     "name": "stdout",
     "output_type": "stream",
     "text": [
      "could not convert string to float: Male\n"
     ]
    }
   ],
   "source": [
    "from sklearn import preprocessing\n",
    "\n",
    "# input is a list of lists, containing raw data\n",
    "array = [['Male', 'Indonesia', 32, False], \n",
    "         ['Male', 'China', 31, True], \n",
    "         ['Female', 'US', 32, True], \n",
    "         ['Female', 'Unknown', 34, True]]\n",
    "\n",
    "enc = preprocessing.OneHotEncoder()\n",
    "\n",
    "try:\n",
    "    enc.fit(array)\n",
    "except Exception as e:\n",
    "    print e\n",
    "    \n",
    "# Unfortunately, OHE from sklearn does not take string data!"
   ]
  },
  {
   "cell_type": "code",
   "execution_count": 6,
   "metadata": {},
   "outputs": [
    {
     "name": "stdout",
     "output_type": "stream",
     "text": [
      "[2 4 2]\n",
      "[0 2 6 8]\n",
      "[0 1 2 3 4 5 6 7]\n",
      "[[  0.   1.   1.   0.   0.   0.   1.   0.  32.]\n",
      " [  0.   1.   0.   1.   0.   0.   0.   1.  31.]\n",
      " [  1.   0.   0.   0.   1.   0.   0.   1.  32.]\n",
      " [  1.   0.   0.   0.   0.   1.   0.   1.  34.]]\n"
     ]
    }
   ],
   "source": [
    "# input is changed to numerical & boolean values\n",
    "array = [[1, 0, 32, False], \n",
    "         [1, 1, 31, True], \n",
    "         [0, 2, 32, True], \n",
    "         [0, 3, 34, True]]\n",
    "\n",
    "# added feature names..\n",
    "features = ['Sex', 'Nationality', 'Age', 'Wear Glasses']\n",
    "\n",
    "# removed the 2nd column as categorical features, because it is numerical\n",
    "enc = preprocessing.OneHotEncoder(categorical_features=[0,1,3])\n",
    "enc.fit(array) # code ran without problem\n",
    "\n",
    "# n_values: the number of values per feature after OHE\n",
    "print enc.n_values_\n",
    "\n",
    "# feature_indices: indicies of features\n",
    "print enc.feature_indices_\n",
    "\n",
    "# active_features: features\n",
    "print enc.active_features_\n",
    "\n",
    "# transform method converts input to an array. Note Age is still there, only moved to the last column\n",
    "print enc.transform(array).toarray()\n"
   ]
  },
  {
   "cell_type": "code",
   "execution_count": 7,
   "metadata": {},
   "outputs": [
    {
     "name": "stdout",
     "output_type": "stream",
     "text": [
      "['China', 'Indonesia', 'US', 'Unknown']\n",
      "[1 0 2 3]\n",
      "y contains new labels: ['Canada']\n"
     ]
    }
   ],
   "source": [
    "# going back to raw data, LabelEncoder could be used to \n",
    "# convert raw data to numerical classes\n",
    "\n",
    "le = preprocessing.LabelEncoder()\n",
    "le.fit(['Indonesia', 'China', 'US', 'Unknown'])\n",
    "\n",
    "# classes_: attribute that records the actual classes\n",
    "print list(le.classes_)\n",
    "\n",
    "# transform: method that converts raw data to class labels\n",
    "print le.transform(['Indonesia', 'China', 'US', 'Unknown'])\n",
    "\n",
    "# trying an unseen class\n",
    "try:\n",
    "    print le.transform(['US', 'Canada'])\n",
    "except Exception as e:\n",
    "    print e"
   ]
  },
  {
   "cell_type": "code",
   "execution_count": 8,
   "metadata": {},
   "outputs": [
    {
     "data": {
      "text/html": [
       "<div>\n",
       "<table border=\"1\" class=\"dataframe\">\n",
       "  <thead>\n",
       "    <tr style=\"text-align: right;\">\n",
       "      <th></th>\n",
       "      <th>Sex</th>\n",
       "      <th>Nationality</th>\n",
       "      <th>Age</th>\n",
       "      <th>Wear Glasses</th>\n",
       "    </tr>\n",
       "  </thead>\n",
       "  <tbody>\n",
       "    <tr>\n",
       "      <th>0</th>\n",
       "      <td>Male</td>\n",
       "      <td>Indonesia</td>\n",
       "      <td>32</td>\n",
       "      <td>False</td>\n",
       "    </tr>\n",
       "    <tr>\n",
       "      <th>1</th>\n",
       "      <td>Male</td>\n",
       "      <td>China</td>\n",
       "      <td>31</td>\n",
       "      <td>True</td>\n",
       "    </tr>\n",
       "    <tr>\n",
       "      <th>2</th>\n",
       "      <td>Female</td>\n",
       "      <td>US</td>\n",
       "      <td>32</td>\n",
       "      <td>True</td>\n",
       "    </tr>\n",
       "    <tr>\n",
       "      <th>3</th>\n",
       "      <td>Female</td>\n",
       "      <td>Unknown</td>\n",
       "      <td>34</td>\n",
       "      <td>True</td>\n",
       "    </tr>\n",
       "  </tbody>\n",
       "</table>\n",
       "</div>"
      ],
      "text/plain": [
       "      Sex Nationality  Age Wear Glasses\n",
       "0    Male   Indonesia   32        False\n",
       "1    Male       China   31         True\n",
       "2  Female          US   32         True\n",
       "3  Female     Unknown   34         True"
      ]
     },
     "metadata": {},
     "output_type": "display_data"
    },
    {
     "data": {
      "text/html": [
       "<div>\n",
       "<table border=\"1\" class=\"dataframe\">\n",
       "  <thead>\n",
       "    <tr style=\"text-align: right;\">\n",
       "      <th></th>\n",
       "      <th>Sex</th>\n",
       "      <th>Nationality</th>\n",
       "      <th>Age</th>\n",
       "      <th>Wear Glasses</th>\n",
       "    </tr>\n",
       "  </thead>\n",
       "  <tbody>\n",
       "    <tr>\n",
       "      <th>0</th>\n",
       "      <td>1</td>\n",
       "      <td>1</td>\n",
       "      <td>32</td>\n",
       "      <td>0</td>\n",
       "    </tr>\n",
       "    <tr>\n",
       "      <th>1</th>\n",
       "      <td>1</td>\n",
       "      <td>0</td>\n",
       "      <td>31</td>\n",
       "      <td>1</td>\n",
       "    </tr>\n",
       "    <tr>\n",
       "      <th>2</th>\n",
       "      <td>0</td>\n",
       "      <td>2</td>\n",
       "      <td>32</td>\n",
       "      <td>1</td>\n",
       "    </tr>\n",
       "    <tr>\n",
       "      <th>3</th>\n",
       "      <td>0</td>\n",
       "      <td>3</td>\n",
       "      <td>34</td>\n",
       "      <td>1</td>\n",
       "    </tr>\n",
       "  </tbody>\n",
       "</table>\n",
       "</div>"
      ],
      "text/plain": [
       "   Sex  Nationality  Age  Wear Glasses\n",
       "0    1            1   32             0\n",
       "1    1            0   31             1\n",
       "2    0            2   32             1\n",
       "3    0            3   34             1"
      ]
     },
     "metadata": {},
     "output_type": "display_data"
    }
   ],
   "source": [
    "# LabelEncoder can also directly convert dataframe columns\n",
    "# However this assumes the values have an order\n",
    "\n",
    "array = [['Male', 'Indonesia', 32, False], \n",
    "         ['Male', 'China', 31, True], \n",
    "         ['Female', 'US', 32, True], \n",
    "         ['Female', 'Unknown', 34, True]]\n",
    "\n",
    "df = pd.DataFrame(data = array, columns = features)\n",
    "display(df)\n",
    "\n",
    "# fit_transform: directly fit the data and transform the data\n",
    "df['Sex'] = le.fit_transform(df['Sex'].astype('str'))\n",
    "df['Nationality'] = le.fit_transform(df['Nationality'].astype('str'))\n",
    "df['Wear Glasses'] = le.fit_transform(df['Wear Glasses'].astype('bool'))\n",
    "display(df)\n"
   ]
  }
 ],
 "metadata": {
  "kernelspec": {
   "display_name": "Python 2",
   "language": "python",
   "name": "python2"
  },
  "language_info": {
   "codemirror_mode": {
    "name": "ipython",
    "version": 2
   },
   "file_extension": ".py",
   "mimetype": "text/x-python",
   "name": "python",
   "nbconvert_exporter": "python",
   "pygments_lexer": "ipython2",
   "version": "2.7.12"
  }
 },
 "nbformat": 4,
 "nbformat_minor": 2
}
