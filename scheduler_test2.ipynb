{
 "cells": [
  {
   "cell_type": "markdown",
   "metadata": {},
   "source": [
    "#### Introduction\n",
    "This notebook contains example of scheduling functions using `sched` package\n",
    "\n",
    "Runs in Python 3"
   ]
  },
  {
   "cell_type": "code",
   "execution_count": 1,
   "metadata": {},
   "outputs": [],
   "source": [
    "import sched\n",
    "import datetime, time"
   ]
  },
  {
   "cell_type": "markdown",
   "metadata": {},
   "source": [
    "#### Define update frequency"
   ]
  },
  {
   "cell_type": "code",
   "execution_count": 2,
   "metadata": {},
   "outputs": [],
   "source": [
    "update_frequency = 10 # in seconds"
   ]
  },
  {
   "cell_type": "markdown",
   "metadata": {},
   "source": [
    "#### Define action"
   ]
  },
  {
   "cell_type": "code",
   "execution_count": 3,
   "metadata": {},
   "outputs": [
    {
     "name": "stdout",
     "output_type": "stream",
     "text": [
      "2018-07-03 08:59:27.591160\n"
     ]
    }
   ],
   "source": [
    "def func():\n",
    "    # print the date and time at the moment of execution\n",
    "    print(datetime.datetime.now())\n",
    "    \n",
    "func()"
   ]
  },
  {
   "cell_type": "markdown",
   "metadata": {},
   "source": [
    "#### Define scheduler\n",
    "`t_stop` is added to terminate after a few updates"
   ]
  },
  {
   "cell_type": "code",
   "execution_count": 4,
   "metadata": {},
   "outputs": [],
   "source": [
    "def scheduler(sc, t_query, update_frequency, t_stop):\n",
    "    \n",
    "    t_query_next = t_query + update_frequency\n",
    "    \n",
    "    if t_query_next < t_stop:\n",
    "        t_query_next = t_query + update_frequency\n",
    "        s.enterabs(t_query_next, 1, scheduler, (sc, t_query_next, update_frequency, t_stop))\n",
    "    \n",
    "        #scheduled actions\n",
    "        func()\n",
    "    else:\n",
    "        print('update finished')\n"
   ]
  },
  {
   "cell_type": "code",
   "execution_count": 5,
   "metadata": {},
   "outputs": [
    {
     "name": "stdout",
     "output_type": "stream",
     "text": [
      "2018-07-03 08:59:27.606476\n",
      "2018-07-03 08:59:37.612868\n",
      "2018-07-03 08:59:47.615876\n",
      "update finished\n"
     ]
    }
   ],
   "source": [
    "s = sched.scheduler(time.time, time.sleep)\n",
    "t_init = time.time()\n",
    "t_stop = t_init + 3*update_frequency + 1\n",
    "\n",
    "s.enterabs(t_init, 1, scheduler, (s, t_init,update_frequency, t_stop))\n",
    "s.run()"
   ]
  },
  {
   "cell_type": "markdown",
   "metadata": {},
   "source": [
    "#### Using a main function"
   ]
  },
  {
   "cell_type": "code",
   "execution_count": 6,
   "metadata": {},
   "outputs": [],
   "source": [
    "def main():\n",
    "    s = sched.scheduler(time.time, time.sleep)\n",
    "    t_init = time.time()\n",
    "    t_stop = t_init + 3*update_frequency + 1\n",
    "\n",
    "    s.enterabs(t_init, 1, scheduler, (s, t_init,update_frequency, t_stop))\n",
    "    s.run()"
   ]
  },
  {
   "cell_type": "markdown",
   "metadata": {},
   "source": [
    "It doesn't do anything"
   ]
  },
  {
   "cell_type": "code",
   "execution_count": 7,
   "metadata": {},
   "outputs": [
    {
     "name": "stdout",
     "output_type": "stream",
     "text": [
      "2018-07-03 08:59:57.630678\n"
     ]
    }
   ],
   "source": [
    "if __name__ == '__main__':\n",
    "    main()"
   ]
  },
  {
   "cell_type": "code",
   "execution_count": null,
   "metadata": {},
   "outputs": [],
   "source": []
  }
 ],
 "metadata": {
  "kernelspec": {
   "display_name": "Python 3",
   "language": "python",
   "name": "python3"
  },
  "language_info": {
   "codemirror_mode": {
    "name": "ipython",
    "version": 3
   },
   "file_extension": ".py",
   "mimetype": "text/x-python",
   "name": "python",
   "nbconvert_exporter": "python",
   "pygments_lexer": "ipython3",
   "version": "3.5.2"
  }
 },
 "nbformat": 4,
 "nbformat_minor": 2
}
